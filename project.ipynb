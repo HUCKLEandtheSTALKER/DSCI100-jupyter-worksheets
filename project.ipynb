{
 "cells": [
  {
   "cell_type": "markdown",
   "id": "a7c6b743-a6f1-440d-9ea8-347bea8f8472",
   "metadata": {},
   "source": [
    "# Project Report\n",
    "Group 60: Daniyal, Ruth, Thomas, Paul"
   ]
  },
  {
   "cell_type": "markdown",
   "id": "33fd0f3c-0d76-4e46-a2c7-fb6adcc8c018",
   "metadata": {},
   "source": [
    "## Title"
   ]
  },
  {
   "cell_type": "markdown",
   "id": "e7c04162-0a68-48d3-9478-8bfc17954d0a",
   "metadata": {},
   "source": [
    "### Introduction"
   ]
  },
  {
   "cell_type": "markdown",
   "id": "7dbc33dc-4ec5-4879-ba47-898453a8a4f1",
   "metadata": {},
   "source": [
    "### Methods & Results\n",
    "Our analysis makes use of the `repr`, `tidyverse`, and `tidymodels` packages in R."
   ]
  },
  {
   "cell_type": "code",
   "execution_count": 1,
   "id": "a6f78e6d-bcaf-429c-8512-e7a324c767a3",
   "metadata": {},
   "outputs": [
    {
     "name": "stderr",
     "output_type": "stream",
     "text": [
      "── \u001b[1mAttaching packages\u001b[22m ─────────────────────────────────────── tidyverse 1.3.1 ──\n",
      "\n",
      "\u001b[32m✔\u001b[39m \u001b[34mggplot2\u001b[39m 3.3.6     \u001b[32m✔\u001b[39m \u001b[34mpurrr  \u001b[39m 0.3.4\n",
      "\u001b[32m✔\u001b[39m \u001b[34mtibble \u001b[39m 3.1.7     \u001b[32m✔\u001b[39m \u001b[34mdplyr  \u001b[39m 1.0.9\n",
      "\u001b[32m✔\u001b[39m \u001b[34mtidyr  \u001b[39m 1.2.0     \u001b[32m✔\u001b[39m \u001b[34mstringr\u001b[39m 1.4.0\n",
      "\u001b[32m✔\u001b[39m \u001b[34mreadr  \u001b[39m 2.1.2     \u001b[32m✔\u001b[39m \u001b[34mforcats\u001b[39m 0.5.1\n",
      "\n",
      "── \u001b[1mConflicts\u001b[22m ────────────────────────────────────────── tidyverse_conflicts() ──\n",
      "\u001b[31m✖\u001b[39m \u001b[34mdplyr\u001b[39m::\u001b[32mfilter()\u001b[39m masks \u001b[34mstats\u001b[39m::filter()\n",
      "\u001b[31m✖\u001b[39m \u001b[34mdplyr\u001b[39m::\u001b[32mlag()\u001b[39m    masks \u001b[34mstats\u001b[39m::lag()\n",
      "\n",
      "── \u001b[1mAttaching packages\u001b[22m ────────────────────────────────────── tidymodels 1.0.0 ──\n",
      "\n",
      "\u001b[32m✔\u001b[39m \u001b[34mbroom       \u001b[39m 1.0.0     \u001b[32m✔\u001b[39m \u001b[34mrsample     \u001b[39m 1.0.0\n",
      "\u001b[32m✔\u001b[39m \u001b[34mdials       \u001b[39m 1.0.0     \u001b[32m✔\u001b[39m \u001b[34mtune        \u001b[39m 1.0.0\n",
      "\u001b[32m✔\u001b[39m \u001b[34minfer       \u001b[39m 1.0.2     \u001b[32m✔\u001b[39m \u001b[34mworkflows   \u001b[39m 1.0.0\n",
      "\u001b[32m✔\u001b[39m \u001b[34mmodeldata   \u001b[39m 1.0.0     \u001b[32m✔\u001b[39m \u001b[34mworkflowsets\u001b[39m 1.0.0\n",
      "\u001b[32m✔\u001b[39m \u001b[34mparsnip     \u001b[39m 1.0.0     \u001b[32m✔\u001b[39m \u001b[34myardstick   \u001b[39m 1.0.0\n",
      "\u001b[32m✔\u001b[39m \u001b[34mrecipes     \u001b[39m 1.0.1     \n",
      "\n",
      "── \u001b[1mConflicts\u001b[22m ───────────────────────────────────────── tidymodels_conflicts() ──\n",
      "\u001b[31m✖\u001b[39m \u001b[34mscales\u001b[39m::\u001b[32mdiscard()\u001b[39m masks \u001b[34mpurrr\u001b[39m::discard()\n",
      "\u001b[31m✖\u001b[39m \u001b[34mdplyr\u001b[39m::\u001b[32mfilter()\u001b[39m   masks \u001b[34mstats\u001b[39m::filter()\n",
      "\u001b[31m✖\u001b[39m \u001b[34mrecipes\u001b[39m::\u001b[32mfixed()\u001b[39m  masks \u001b[34mstringr\u001b[39m::fixed()\n",
      "\u001b[31m✖\u001b[39m \u001b[34mdplyr\u001b[39m::\u001b[32mlag()\u001b[39m      masks \u001b[34mstats\u001b[39m::lag()\n",
      "\u001b[31m✖\u001b[39m \u001b[34myardstick\u001b[39m::\u001b[32mspec()\u001b[39m masks \u001b[34mreadr\u001b[39m::spec()\n",
      "\u001b[31m✖\u001b[39m \u001b[34mrecipes\u001b[39m::\u001b[32mstep()\u001b[39m   masks \u001b[34mstats\u001b[39m::step()\n",
      "\u001b[34m•\u001b[39m Search for functions across packages at \u001b[32mhttps://www.tidymodels.org/find/\u001b[39m\n",
      "\n"
     ]
    }
   ],
   "source": [
    "# Setup\n",
    "library(repr)\n",
    "library(tidyverse)\n",
    "library(tidymodels)\n",
    "options(repr.matrix.max.cols = 100, repr.matrix.max.rows = 6)\n",
    "options(repr.plot.width = 8, repr.plot.height = 7)\n",
    "set.seed(9248)"
   ]
  },
  {
   "cell_type": "code",
   "execution_count": 2,
   "id": "25a0f9cb-3c29-4ff3-adeb-5440dbf656d3",
   "metadata": {},
   "outputs": [
    {
     "name": "stderr",
     "output_type": "stream",
     "text": [
      "Warning message:\n",
      "“One or more parsing issues, see `problems()` for details”\n",
      "\u001b[1mRows: \u001b[22m\u001b[34m18492\u001b[39m \u001b[1mColumns: \u001b[22m\u001b[34m7\u001b[39m\n",
      "\u001b[36m──\u001b[39m \u001b[1mColumn specification\u001b[22m \u001b[36m────────────────────────────────────────────────────────\u001b[39m\n",
      "\u001b[1mDelimiter:\u001b[22m \" \"\n",
      "\u001b[31mchr\u001b[39m (2): X3, X7\n",
      "\u001b[32mdbl\u001b[39m (5): X1, X2, X4, X5, X6\n",
      "\n",
      "\u001b[36mℹ\u001b[39m Use `spec()` to retrieve the full column specification for this data.\n",
      "\u001b[36mℹ\u001b[39m Specify the column types or set `show_col_types = FALSE` to quiet this message.\n",
      "Warning message:\n",
      "“Expected 2 pieces. Missing pieces filled with `NA` in 2303 rows [12, 24, 36, 48, 60, 72, 84, 96, 108, 120, 132, 144, 156, 168, 180, 192, 204, 216, 228, 240, ...].”\n"
     ]
    },
    {
     "data": {
      "text/html": [
       "<table class=\"dataframe\">\n",
       "<caption>A tibble: 18492 × 8</caption>\n",
       "<thead>\n",
       "\t<tr><th scope=col>X1</th><th scope=col>X2</th><th scope=col>X3</th><th scope=col>X4</th><th scope=col>X5</th><th scope=col>X6</th><th scope=col>X7</th><th scope=col>X8</th></tr>\n",
       "\t<tr><th scope=col>&lt;dbl&gt;</th><th scope=col>&lt;dbl&gt;</th><th scope=col>&lt;chr&gt;</th><th scope=col>&lt;dbl&gt;</th><th scope=col>&lt;dbl&gt;</th><th scope=col>&lt;dbl&gt;</th><th scope=col>&lt;dbl&gt;</th><th scope=col>&lt;dbl&gt;</th></tr>\n",
       "</thead>\n",
       "<tbody>\n",
       "\t<tr><td>  1</td><td>15943882</td><td>63 </td><td>1</td><td> NA</td><td>NA</td><td>  NA</td><td>NA</td></tr>\n",
       "\t<tr><td>-27</td><td>       1</td><td>145</td><td>1</td><td>233</td><td>NA</td><td>  50</td><td>20</td></tr>\n",
       "\t<tr><td>  1</td><td>       0</td><td>1  </td><td>2</td><td>  2</td><td> 3</td><td>1981</td><td> 0</td></tr>\n",
       "\t<tr><td>⋮</td><td>⋮</td><td>⋮</td><td>⋮</td><td>⋮</td><td>⋮</td><td>⋮</td><td>⋮</td></tr>\n",
       "\t<tr><td> 1</td><td> 1</td><td>NA    </td><td>NA</td><td>NA</td><td>NA</td><td>NA</td><td>NA</td></tr>\n",
       "\t<tr><td>NA</td><td>NA</td><td>NA    </td><td>NA</td><td>NA</td><td>NA</td><td>NA</td><td>NA</td></tr>\n",
       "\t<tr><td>NA</td><td>NA</td><td>Takacs</td><td>NA</td><td>NA</td><td>NA</td><td>NA</td><td>NA</td></tr>\n",
       "</tbody>\n",
       "</table>\n"
      ],
      "text/latex": [
       "A tibble: 18492 × 8\n",
       "\\begin{tabular}{llllllll}\n",
       " X1 & X2 & X3 & X4 & X5 & X6 & X7 & X8\\\\\n",
       " <dbl> & <dbl> & <chr> & <dbl> & <dbl> & <dbl> & <dbl> & <dbl>\\\\\n",
       "\\hline\n",
       "\t   1 & 15943882 & 63  & 1 &  NA & NA &   NA & NA\\\\\n",
       "\t -27 &        1 & 145 & 1 & 233 & NA &   50 & 20\\\\\n",
       "\t   1 &        0 & 1   & 2 &   2 &  3 & 1981 &  0\\\\\n",
       "\t ⋮ & ⋮ & ⋮ & ⋮ & ⋮ & ⋮ & ⋮ & ⋮\\\\\n",
       "\t  1 &  1 & NA     & NA & NA & NA & NA & NA\\\\\n",
       "\t NA & NA & NA     & NA & NA & NA & NA & NA\\\\\n",
       "\t NA & NA & Takacs & NA & NA & NA & NA & NA\\\\\n",
       "\\end{tabular}\n"
      ],
      "text/markdown": [
       "\n",
       "A tibble: 18492 × 8\n",
       "\n",
       "| X1 &lt;dbl&gt; | X2 &lt;dbl&gt; | X3 &lt;chr&gt; | X4 &lt;dbl&gt; | X5 &lt;dbl&gt; | X6 &lt;dbl&gt; | X7 &lt;dbl&gt; | X8 &lt;dbl&gt; |\n",
       "|---|---|---|---|---|---|---|---|\n",
       "|   1 | 15943882 | 63  | 1 |  NA | NA |   NA | NA |\n",
       "| -27 |        1 | 145 | 1 | 233 | NA |   50 | 20 |\n",
       "|   1 |        0 | 1   | 2 |   2 |  3 | 1981 |  0 |\n",
       "| ⋮ | ⋮ | ⋮ | ⋮ | ⋮ | ⋮ | ⋮ | ⋮ |\n",
       "|  1 |  1 | NA     | NA | NA | NA | NA | NA |\n",
       "| NA | NA | NA     | NA | NA | NA | NA | NA |\n",
       "| NA | NA | Takacs | NA | NA | NA | NA | NA |\n",
       "\n"
      ],
      "text/plain": [
       "      X1  X2       X3     X4 X5  X6 X7   X8\n",
       "1       1 15943882 63     1   NA NA   NA NA\n",
       "2     -27        1 145    1  233 NA   50 20\n",
       "3       1        0 1      2    2  3 1981  0\n",
       "⋮     ⋮   ⋮        ⋮      ⋮  ⋮   ⋮  ⋮    ⋮ \n",
       "18490  1   1       NA     NA NA  NA NA   NA\n",
       "18491 NA  NA       NA     NA NA  NA NA   NA\n",
       "18492 NA  NA       Takacs NA NA  NA NA   NA"
      ]
     },
     "metadata": {},
     "output_type": "display_data"
    }
   ],
   "source": [
    "# Obtaining data\n",
    "heart_raw <- read_delim(\"https://archive.ics.uci.edu/ml/machine-learning-databases/heart-disease/new.data\",\n",
    "                        col_names = FALSE, na = \"-9\") |>\n",
    "    separate(X7, c(\"X7\", \"X8\"), sep = \" \", convert = TRUE) |>\n",
    "    na_if(-9)\n",
    "heart_raw"
   ]
  },
  {
   "cell_type": "code",
   "execution_count": 3,
   "id": "232b12a9-ea9b-4c54-a5f2-6ca7e8720343",
   "metadata": {},
   "outputs": [
    {
     "name": "stderr",
     "output_type": "stream",
     "text": [
      "\n",
      "\u001b[36m──\u001b[39m \u001b[1mColumn specification\u001b[22m \u001b[36m────────────────────────────────────────────────────────\u001b[39m\n",
      "cols(\n",
      "  X3_1 = \u001b[32mcol_double()\u001b[39m,\n",
      "  X3_2 = \u001b[32mcol_double()\u001b[39m,\n",
      "  X3_3 = \u001b[32mcol_double()\u001b[39m,\n",
      "  X3_4 = \u001b[32mcol_double()\u001b[39m,\n",
      "  X3_5 = \u001b[32mcol_double()\u001b[39m,\n",
      "  X3_6 = \u001b[32mcol_double()\u001b[39m,\n",
      "  X3_7 = \u001b[32mcol_double()\u001b[39m,\n",
      "  X3_8 = \u001b[32mcol_double()\u001b[39m,\n",
      "  X3_9 = \u001b[32mcol_double()\u001b[39m,\n",
      "  X3_10 = \u001b[32mcol_double()\u001b[39m,\n",
      "  X3_11 = \u001b[32mcol_double()\u001b[39m,\n",
      "  X3_12 = \u001b[31mcol_character()\u001b[39m\n",
      ")\n",
      "\n"
     ]
    },
    {
     "data": {
      "text/html": [
       "<table class=\"dataframe\">\n",
       "<caption>A tibble: 1541 × 90</caption>\n",
       "<thead>\n",
       "\t<tr><th scope=col>id</th><th scope=col>ccf</th><th scope=col>age</th><th scope=col>sex</th><th scope=col>painloc</th><th scope=col>painexer</th><th scope=col>relrest</th><th scope=col>pncaden</th><th scope=col>cp</th><th scope=col>trestbps</th><th scope=col>htn</th><th scope=col>chol</th><th scope=col>smoke</th><th scope=col>cigs</th><th scope=col>years</th><th scope=col>fbs</th><th scope=col>dm</th><th scope=col>famhist</th><th scope=col>restecg</th><th scope=col>ekgmo</th><th scope=col>ekgday</th><th scope=col>ekgyr</th><th scope=col>dig</th><th scope=col>prop</th><th scope=col>nitr</th><th scope=col>pro</th><th scope=col>diuretic</th><th scope=col>proto</th><th scope=col>thaldur</th><th scope=col>thaltime</th><th scope=col>met</th><th scope=col>thalach</th><th scope=col>thalrest</th><th scope=col>tpeakbps</th><th scope=col>tpeakbpd</th><th scope=col>dummy</th><th scope=col>trestbpd</th><th scope=col>exang</th><th scope=col>xhypo</th><th scope=col>oldpeak</th><th scope=col>slope</th><th scope=col>rldv5</th><th scope=col>rldv5e</th><th scope=col>ca</th><th scope=col>restckm</th><th scope=col>exerckm</th><th scope=col>restef</th><th scope=col>restwm</th><th scope=col>exeref</th><th scope=col>exerwm</th><th scope=col>thal</th><th scope=col>thalsev</th><th scope=col>thalpul</th><th scope=col>earlobe</th><th scope=col>cmo</th><th scope=col>cday</th><th scope=col>cyr</th><th scope=col>num</th><th scope=col>lmt</th><th scope=col>ladprox</th><th scope=col>laddist</th><th scope=col>diag</th><th scope=col>cxmain</th><th scope=col>ramus</th><th scope=col>om1</th><th scope=col>om2</th><th scope=col>rcaprox</th><th scope=col>rcadist</th><th scope=col>lvx1</th><th scope=col>lvx2</th><th scope=col>lvx3</th><th scope=col>lvx4</th><th scope=col>lvf</th><th scope=col>cathef</th><th scope=col>junk1</th><th scope=col>junk2</th><th scope=col>junk3</th><th scope=col>junk4</th><th scope=col>junk5</th><th scope=col>junk6</th><th scope=col>junk7</th><th scope=col>junk8</th><th scope=col>junk9</th><th scope=col>junk10</th><th scope=col>junk11</th><th scope=col>junk12</th><th scope=col>junk13</th><th scope=col>junk14</th><th scope=col>junk15</th><th scope=col>name</th></tr>\n",
       "\t<tr><th scope=col>&lt;dbl&gt;</th><th scope=col>&lt;dbl&gt;</th><th scope=col>&lt;dbl&gt;</th><th scope=col>&lt;dbl&gt;</th><th scope=col>&lt;dbl&gt;</th><th scope=col>&lt;dbl&gt;</th><th scope=col>&lt;dbl&gt;</th><th scope=col>&lt;dbl&gt;</th><th scope=col>&lt;dbl&gt;</th><th scope=col>&lt;dbl&gt;</th><th scope=col>&lt;dbl&gt;</th><th scope=col>&lt;dbl&gt;</th><th scope=col>&lt;dbl&gt;</th><th scope=col>&lt;dbl&gt;</th><th scope=col>&lt;dbl&gt;</th><th scope=col>&lt;dbl&gt;</th><th scope=col>&lt;dbl&gt;</th><th scope=col>&lt;dbl&gt;</th><th scope=col>&lt;dbl&gt;</th><th scope=col>&lt;dbl&gt;</th><th scope=col>&lt;dbl&gt;</th><th scope=col>&lt;dbl&gt;</th><th scope=col>&lt;dbl&gt;</th><th scope=col>&lt;dbl&gt;</th><th scope=col>&lt;dbl&gt;</th><th scope=col>&lt;dbl&gt;</th><th scope=col>&lt;dbl&gt;</th><th scope=col>&lt;dbl&gt;</th><th scope=col>&lt;dbl&gt;</th><th scope=col>&lt;dbl&gt;</th><th scope=col>&lt;dbl&gt;</th><th scope=col>&lt;dbl&gt;</th><th scope=col>&lt;dbl&gt;</th><th scope=col>&lt;dbl&gt;</th><th scope=col>&lt;dbl&gt;</th><th scope=col>&lt;dbl&gt;</th><th scope=col>&lt;dbl&gt;</th><th scope=col>&lt;dbl&gt;</th><th scope=col>&lt;dbl&gt;</th><th scope=col>&lt;dbl&gt;</th><th scope=col>&lt;dbl&gt;</th><th scope=col>&lt;dbl&gt;</th><th scope=col>&lt;dbl&gt;</th><th scope=col>&lt;dbl&gt;</th><th scope=col>&lt;dbl&gt;</th><th scope=col>&lt;dbl&gt;</th><th scope=col>&lt;dbl&gt;</th><th scope=col>&lt;dbl&gt;</th><th scope=col>&lt;dbl&gt;</th><th scope=col>&lt;dbl&gt;</th><th scope=col>&lt;dbl&gt;</th><th scope=col>&lt;dbl&gt;</th><th scope=col>&lt;dbl&gt;</th><th scope=col>&lt;dbl&gt;</th><th scope=col>&lt;dbl&gt;</th><th scope=col>&lt;dbl&gt;</th><th scope=col>&lt;dbl&gt;</th><th scope=col>&lt;dbl&gt;</th><th scope=col>&lt;dbl&gt;</th><th scope=col>&lt;dbl&gt;</th><th scope=col>&lt;dbl&gt;</th><th scope=col>&lt;dbl&gt;</th><th scope=col>&lt;dbl&gt;</th><th scope=col>&lt;dbl&gt;</th><th scope=col>&lt;dbl&gt;</th><th scope=col>&lt;dbl&gt;</th><th scope=col>&lt;dbl&gt;</th><th scope=col>&lt;dbl&gt;</th><th scope=col>&lt;dbl&gt;</th><th scope=col>&lt;dbl&gt;</th><th scope=col>&lt;dbl&gt;</th><th scope=col>&lt;dbl&gt;</th><th scope=col>&lt;dbl&gt;</th><th scope=col>&lt;dbl&gt;</th><th scope=col>&lt;dbl&gt;</th><th scope=col>&lt;dbl&gt;</th><th scope=col>&lt;dbl&gt;</th><th scope=col>&lt;dbl&gt;</th><th scope=col>&lt;dbl&gt;</th><th scope=col>&lt;dbl&gt;</th><th scope=col>&lt;dbl&gt;</th><th scope=col>&lt;dbl&gt;</th><th scope=col>&lt;dbl&gt;</th><th scope=col>&lt;dbl&gt;</th><th scope=col>&lt;dbl&gt;</th><th scope=col>&lt;dbl&gt;</th><th scope=col>&lt;dbl&gt;</th><th scope=col>&lt;dbl&gt;</th><th scope=col>&lt;dbl&gt;</th><th scope=col>&lt;chr&gt;</th></tr>\n",
       "</thead>\n",
       "<tbody>\n",
       "\t<tr><td>1</td><td>15943882</td><td>63</td><td>1</td><td>NA</td><td>NA</td><td>NA</td><td>-27</td><td>1</td><td>145</td><td>1</td><td>233</td><td>NA</td><td>50</td><td>20</td><td>1</td><td>0</td><td>1</td><td>2</td><td>2</td><td> 3</td><td>1981</td><td>0</td><td>0</td><td>0</td><td>0</td><td>0</td><td>1</td><td>10.5</td><td>6</td><td>13</td><td>150</td><td>60</td><td>190</td><td>90</td><td>145</td><td>85</td><td>0</td><td>0</td><td>2.3</td><td>3</td><td>NA</td><td>NA</td><td>0</td><td>NA</td><td>NA</td><td>NA</td><td>NA</td><td>NA</td><td>NA</td><td>6</td><td>NA</td><td>NA</td><td>NA</td><td>2</td><td>16</td><td>1981</td><td>0</td><td>1</td><td>1</td><td>1</td><td>NA</td><td>1</td><td>NA</td><td>1</td><td>NA</td><td>1</td><td>1</td><td>1</td><td>1</td><td>1</td><td>1</td><td>1</td><td>NA</td><td>NA</td><td>0</td><td>NA</td><td>NA</td><td>NA</td><td>NA</td><td>NA</td><td>NA</td><td>NA</td><td>NA</td><td>NA</td><td>0</td><td>0</td><td>0</td><td>0</td><td>name</td></tr>\n",
       "\t<tr><td>2</td><td>15964847</td><td>67</td><td>1</td><td>NA</td><td>NA</td><td>NA</td><td>-27</td><td>4</td><td>160</td><td>1</td><td>286</td><td>NA</td><td>40</td><td>40</td><td>0</td><td>0</td><td>1</td><td>2</td><td>3</td><td> 5</td><td>1981</td><td>0</td><td>1</td><td>0</td><td>0</td><td>0</td><td>1</td><td> 9.5</td><td>6</td><td>13</td><td>108</td><td>64</td><td>160</td><td>90</td><td>160</td><td>90</td><td>1</td><td>0</td><td>1.5</td><td>2</td><td>NA</td><td>NA</td><td>3</td><td>NA</td><td>NA</td><td>NA</td><td>NA</td><td>NA</td><td>NA</td><td>3</td><td>NA</td><td>NA</td><td>NA</td><td>2</td><td> 5</td><td>1981</td><td>2</td><td>1</td><td>2</td><td>2</td><td>NA</td><td>2</td><td>NA</td><td>1</td><td>NA</td><td>1</td><td>1</td><td>1</td><td>1</td><td>1</td><td>1</td><td>1</td><td>NA</td><td>NA</td><td>0</td><td>NA</td><td>NA</td><td>NA</td><td>NA</td><td>NA</td><td>NA</td><td>NA</td><td>NA</td><td>NA</td><td>0</td><td>0</td><td>0</td><td>0</td><td>name</td></tr>\n",
       "\t<tr><td>3</td><td>15952199</td><td>67</td><td>1</td><td>NA</td><td>NA</td><td>NA</td><td>-27</td><td>4</td><td>120</td><td>1</td><td>229</td><td>NA</td><td>20</td><td>35</td><td>0</td><td>0</td><td>1</td><td>2</td><td>2</td><td>19</td><td>1981</td><td>0</td><td>1</td><td>0</td><td>0</td><td>0</td><td>1</td><td> 8.5</td><td>6</td><td>10</td><td>129</td><td>78</td><td>140</td><td>80</td><td>120</td><td>80</td><td>1</td><td>0</td><td>2.6</td><td>2</td><td>NA</td><td>NA</td><td>2</td><td>NA</td><td>NA</td><td>NA</td><td>NA</td><td>NA</td><td>NA</td><td>7</td><td>NA</td><td>NA</td><td>NA</td><td>2</td><td>20</td><td>1981</td><td>1</td><td>1</td><td>1</td><td>1</td><td>NA</td><td>1</td><td>NA</td><td>1</td><td>NA</td><td>2</td><td>2</td><td>1</td><td>1</td><td>1</td><td>7</td><td>3</td><td>NA</td><td>NA</td><td>0</td><td>NA</td><td>NA</td><td>NA</td><td>NA</td><td>NA</td><td>NA</td><td>NA</td><td>NA</td><td>NA</td><td>0</td><td>0</td><td>0</td><td>0</td><td>name</td></tr>\n",
       "\t<tr><td>⋮</td><td>⋮</td><td>⋮</td><td>⋮</td><td>⋮</td><td>⋮</td><td>⋮</td><td>⋮</td><td>⋮</td><td>⋮</td><td>⋮</td><td>⋮</td><td>⋮</td><td>⋮</td><td>⋮</td><td>⋮</td><td>⋮</td><td>⋮</td><td>⋮</td><td>⋮</td><td>⋮</td><td>⋮</td><td>⋮</td><td>⋮</td><td>⋮</td><td>⋮</td><td>⋮</td><td>⋮</td><td>⋮</td><td>⋮</td><td>⋮</td><td>⋮</td><td>⋮</td><td>⋮</td><td>⋮</td><td>⋮</td><td>⋮</td><td>⋮</td><td>⋮</td><td>⋮</td><td>⋮</td><td>⋮</td><td>⋮</td><td>⋮</td><td>⋮</td><td>⋮</td><td>⋮</td><td>⋮</td><td>⋮</td><td>⋮</td><td>⋮</td><td>⋮</td><td>⋮</td><td>⋮</td><td>⋮</td><td>⋮</td><td>⋮</td><td>⋮</td><td>⋮</td><td>⋮</td><td>⋮</td><td>⋮</td><td>⋮</td><td>⋮</td><td>⋮</td><td>⋮</td><td>⋮</td><td>⋮</td><td>⋮</td><td>⋮</td><td>⋮</td><td>⋮</td><td>⋮</td><td>⋮</td><td>⋮</td><td>⋮</td><td>⋮</td><td>⋮</td><td>⋮</td><td>⋮</td><td>⋮</td><td>⋮</td><td>⋮</td><td>⋮</td><td>⋮</td><td>⋮</td><td>⋮</td><td>⋮</td><td>⋮</td><td>⋮</td></tr>\n",
       "\t<tr><td>1668</td><td>13203</td><td>57</td><td>1</td><td>1</td><td>NA</td><td>NA</td><td>NA</td><td>4</td><td>130</td><td>0</td><td>305.69</td><td>NA</td><td>NA</td><td>NA</td><td>0</td><td>0</td><td>NA</td><td>0</td><td>5</td><td>10</td><td>1989</td><td>0</td><td>0</td><td>0</td><td>0</td><td>0</td><td>100</td><td>10</td><td> 4</td><td>5.0</td><td>105</td><td>67</td><td>210</td><td>120</td><td>130</td><td>80</td><td>0</td><td>0</td><td>4</td><td>1</td><td>NA</td><td>NA</td><td>NA</td><td>NA</td><td>NA</td><td>NA</td><td>NA</td><td>NA</td><td>NA</td><td>NA</td><td>NA</td><td>NA</td><td>NA</td><td>NA</td><td>NA</td><td>NA</td><td>3</td><td>-1</td><td>-1</td><td> 2</td><td>-1</td><td>-1</td><td>-1</td><td> 2</td><td>-1</td><td>-1</td><td> 2</td><td>1</td><td>1</td><td>5</td><td>6</td><td>2</td><td>NA</td><td>NA</td><td>NA</td><td>NA</td><td>NA</td><td>NA</td><td>NA</td><td>NA</td><td>NA</td><td>NA</td><td>NA</td><td>NA</td><td>NA</td><td>NA</td><td>NA</td><td>NA</td><td>Torok   </td></tr>\n",
       "\t<tr><td>1669</td><td>14205</td><td>47</td><td>1</td><td>1</td><td>NA</td><td>NA</td><td>NA</td><td>4</td><td>100</td><td>0</td><td>127.05</td><td>NA</td><td>NA</td><td>NA</td><td>0</td><td>0</td><td>NA</td><td>0</td><td>2</td><td>22</td><td>1989</td><td>0</td><td>0</td><td>0</td><td>0</td><td>0</td><td>100</td><td>10</td><td>NA</td><td>5.0</td><td>135</td><td>90</td><td>180</td><td> 90</td><td>100</td><td>60</td><td>0</td><td>0</td><td>0</td><td>0</td><td>NA</td><td>NA</td><td>NA</td><td>NA</td><td>NA</td><td>NA</td><td>NA</td><td>NA</td><td>NA</td><td>NA</td><td>NA</td><td>NA</td><td>NA</td><td>NA</td><td>NA</td><td>NA</td><td>0</td><td>-1</td><td>-1</td><td>-1</td><td>-1</td><td>-1</td><td>-1</td><td>-1</td><td>-1</td><td>-1</td><td>-1</td><td>1</td><td>1</td><td>1</td><td>1</td><td>1</td><td>NA</td><td>NA</td><td>NA</td><td>NA</td><td>NA</td><td>NA</td><td>NA</td><td>NA</td><td>NA</td><td>NA</td><td>NA</td><td>NA</td><td>NA</td><td>NA</td><td>NA</td><td>NA</td><td>Veszelsz</td></tr>\n",
       "\t<tr><td>1670</td><td>15403</td><td>36</td><td>1</td><td>1</td><td>NA</td><td>NA</td><td>NA</td><td>3</td><td>120</td><td>0</td><td>221.76</td><td>NA</td><td>NA</td><td>NA</td><td>0</td><td>0</td><td>NA</td><td>0</td><td>3</td><td> 2</td><td>1989</td><td>0</td><td>0</td><td>0</td><td>0</td><td>0</td><td>150</td><td>19</td><td>NA</td><td>7.5</td><td>147</td><td>76</td><td>180</td><td> 85</td><td>120</td><td>80</td><td>0</td><td>0</td><td>0</td><td>0</td><td>NA</td><td>NA</td><td>NA</td><td>NA</td><td>NA</td><td>NA</td><td>NA</td><td>NA</td><td>NA</td><td>NA</td><td>NA</td><td>NA</td><td>NA</td><td>NA</td><td>NA</td><td>NA</td><td>0</td><td>-1</td><td>-1</td><td>-1</td><td>-1</td><td>-1</td><td>-1</td><td>-1</td><td>-1</td><td>-1</td><td>-1</td><td>1</td><td>1</td><td>1</td><td>1</td><td>1</td><td>NA</td><td>NA</td><td>NA</td><td>NA</td><td>NA</td><td>NA</td><td>NA</td><td>NA</td><td>NA</td><td>NA</td><td>NA</td><td>NA</td><td>NA</td><td>NA</td><td>NA</td><td>NA</td><td>Takacs  </td></tr>\n",
       "</tbody>\n",
       "</table>\n"
      ],
      "text/latex": [
       "A tibble: 1541 × 90\n",
       "\\begin{tabular}{llllllllllllllllllllllllllllllllllllllllllllllllllllllllllllllllllllllllllllllllllllllllll}\n",
       " id & ccf & age & sex & painloc & painexer & relrest & pncaden & cp & trestbps & htn & chol & smoke & cigs & years & fbs & dm & famhist & restecg & ekgmo & ekgday & ekgyr & dig & prop & nitr & pro & diuretic & proto & thaldur & thaltime & met & thalach & thalrest & tpeakbps & tpeakbpd & dummy & trestbpd & exang & xhypo & oldpeak & slope & rldv5 & rldv5e & ca & restckm & exerckm & restef & restwm & exeref & exerwm & thal & thalsev & thalpul & earlobe & cmo & cday & cyr & num & lmt & ladprox & laddist & diag & cxmain & ramus & om1 & om2 & rcaprox & rcadist & lvx1 & lvx2 & lvx3 & lvx4 & lvf & cathef & junk1 & junk2 & junk3 & junk4 & junk5 & junk6 & junk7 & junk8 & junk9 & junk10 & junk11 & junk12 & junk13 & junk14 & junk15 & name\\\\\n",
       " <dbl> & <dbl> & <dbl> & <dbl> & <dbl> & <dbl> & <dbl> & <dbl> & <dbl> & <dbl> & <dbl> & <dbl> & <dbl> & <dbl> & <dbl> & <dbl> & <dbl> & <dbl> & <dbl> & <dbl> & <dbl> & <dbl> & <dbl> & <dbl> & <dbl> & <dbl> & <dbl> & <dbl> & <dbl> & <dbl> & <dbl> & <dbl> & <dbl> & <dbl> & <dbl> & <dbl> & <dbl> & <dbl> & <dbl> & <dbl> & <dbl> & <dbl> & <dbl> & <dbl> & <dbl> & <dbl> & <dbl> & <dbl> & <dbl> & <dbl> & <dbl> & <dbl> & <dbl> & <dbl> & <dbl> & <dbl> & <dbl> & <dbl> & <dbl> & <dbl> & <dbl> & <dbl> & <dbl> & <dbl> & <dbl> & <dbl> & <dbl> & <dbl> & <dbl> & <dbl> & <dbl> & <dbl> & <dbl> & <dbl> & <dbl> & <dbl> & <dbl> & <dbl> & <dbl> & <dbl> & <dbl> & <dbl> & <dbl> & <dbl> & <dbl> & <dbl> & <dbl> & <dbl> & <dbl> & <chr>\\\\\n",
       "\\hline\n",
       "\t 1 & 15943882 & 63 & 1 & NA & NA & NA & -27 & 1 & 145 & 1 & 233 & NA & 50 & 20 & 1 & 0 & 1 & 2 & 2 &  3 & 1981 & 0 & 0 & 0 & 0 & 0 & 1 & 10.5 & 6 & 13 & 150 & 60 & 190 & 90 & 145 & 85 & 0 & 0 & 2.3 & 3 & NA & NA & 0 & NA & NA & NA & NA & NA & NA & 6 & NA & NA & NA & 2 & 16 & 1981 & 0 & 1 & 1 & 1 & NA & 1 & NA & 1 & NA & 1 & 1 & 1 & 1 & 1 & 1 & 1 & NA & NA & 0 & NA & NA & NA & NA & NA & NA & NA & NA & NA & 0 & 0 & 0 & 0 & name\\\\\n",
       "\t 2 & 15964847 & 67 & 1 & NA & NA & NA & -27 & 4 & 160 & 1 & 286 & NA & 40 & 40 & 0 & 0 & 1 & 2 & 3 &  5 & 1981 & 0 & 1 & 0 & 0 & 0 & 1 &  9.5 & 6 & 13 & 108 & 64 & 160 & 90 & 160 & 90 & 1 & 0 & 1.5 & 2 & NA & NA & 3 & NA & NA & NA & NA & NA & NA & 3 & NA & NA & NA & 2 &  5 & 1981 & 2 & 1 & 2 & 2 & NA & 2 & NA & 1 & NA & 1 & 1 & 1 & 1 & 1 & 1 & 1 & NA & NA & 0 & NA & NA & NA & NA & NA & NA & NA & NA & NA & 0 & 0 & 0 & 0 & name\\\\\n",
       "\t 3 & 15952199 & 67 & 1 & NA & NA & NA & -27 & 4 & 120 & 1 & 229 & NA & 20 & 35 & 0 & 0 & 1 & 2 & 2 & 19 & 1981 & 0 & 1 & 0 & 0 & 0 & 1 &  8.5 & 6 & 10 & 129 & 78 & 140 & 80 & 120 & 80 & 1 & 0 & 2.6 & 2 & NA & NA & 2 & NA & NA & NA & NA & NA & NA & 7 & NA & NA & NA & 2 & 20 & 1981 & 1 & 1 & 1 & 1 & NA & 1 & NA & 1 & NA & 2 & 2 & 1 & 1 & 1 & 7 & 3 & NA & NA & 0 & NA & NA & NA & NA & NA & NA & NA & NA & NA & 0 & 0 & 0 & 0 & name\\\\\n",
       "\t ⋮ & ⋮ & ⋮ & ⋮ & ⋮ & ⋮ & ⋮ & ⋮ & ⋮ & ⋮ & ⋮ & ⋮ & ⋮ & ⋮ & ⋮ & ⋮ & ⋮ & ⋮ & ⋮ & ⋮ & ⋮ & ⋮ & ⋮ & ⋮ & ⋮ & ⋮ & ⋮ & ⋮ & ⋮ & ⋮ & ⋮ & ⋮ & ⋮ & ⋮ & ⋮ & ⋮ & ⋮ & ⋮ & ⋮ & ⋮ & ⋮ & ⋮ & ⋮ & ⋮ & ⋮ & ⋮ & ⋮ & ⋮ & ⋮ & ⋮ & ⋮ & ⋮ & ⋮ & ⋮ & ⋮ & ⋮ & ⋮ & ⋮ & ⋮ & ⋮ & ⋮ & ⋮ & ⋮ & ⋮ & ⋮ & ⋮ & ⋮ & ⋮ & ⋮ & ⋮ & ⋮ & ⋮ & ⋮ & ⋮ & ⋮ & ⋮ & ⋮ & ⋮ & ⋮ & ⋮ & ⋮ & ⋮ & ⋮ & ⋮ & ⋮ & ⋮ & ⋮ & ⋮ & ⋮ & ⋮\\\\\n",
       "\t 1668 & 13203 & 57 & 1 & 1 & NA & NA & NA & 4 & 130 & 0 & 305.69 & NA & NA & NA & 0 & 0 & NA & 0 & 5 & 10 & 1989 & 0 & 0 & 0 & 0 & 0 & 100 & 10 &  4 & 5.0 & 105 & 67 & 210 & 120 & 130 & 80 & 0 & 0 & 4 & 1 & NA & NA & NA & NA & NA & NA & NA & NA & NA & NA & NA & NA & NA & NA & NA & NA & 3 & -1 & -1 &  2 & -1 & -1 & -1 &  2 & -1 & -1 &  2 & 1 & 1 & 5 & 6 & 2 & NA & NA & NA & NA & NA & NA & NA & NA & NA & NA & NA & NA & NA & NA & NA & NA & Torok   \\\\\n",
       "\t 1669 & 14205 & 47 & 1 & 1 & NA & NA & NA & 4 & 100 & 0 & 127.05 & NA & NA & NA & 0 & 0 & NA & 0 & 2 & 22 & 1989 & 0 & 0 & 0 & 0 & 0 & 100 & 10 & NA & 5.0 & 135 & 90 & 180 &  90 & 100 & 60 & 0 & 0 & 0 & 0 & NA & NA & NA & NA & NA & NA & NA & NA & NA & NA & NA & NA & NA & NA & NA & NA & 0 & -1 & -1 & -1 & -1 & -1 & -1 & -1 & -1 & -1 & -1 & 1 & 1 & 1 & 1 & 1 & NA & NA & NA & NA & NA & NA & NA & NA & NA & NA & NA & NA & NA & NA & NA & NA & Veszelsz\\\\\n",
       "\t 1670 & 15403 & 36 & 1 & 1 & NA & NA & NA & 3 & 120 & 0 & 221.76 & NA & NA & NA & 0 & 0 & NA & 0 & 3 &  2 & 1989 & 0 & 0 & 0 & 0 & 0 & 150 & 19 & NA & 7.5 & 147 & 76 & 180 &  85 & 120 & 80 & 0 & 0 & 0 & 0 & NA & NA & NA & NA & NA & NA & NA & NA & NA & NA & NA & NA & NA & NA & NA & NA & 0 & -1 & -1 & -1 & -1 & -1 & -1 & -1 & -1 & -1 & -1 & 1 & 1 & 1 & 1 & 1 & NA & NA & NA & NA & NA & NA & NA & NA & NA & NA & NA & NA & NA & NA & NA & NA & Takacs  \\\\\n",
       "\\end{tabular}\n"
      ],
      "text/markdown": [
       "\n",
       "A tibble: 1541 × 90\n",
       "\n",
       "| id &lt;dbl&gt; | ccf &lt;dbl&gt; | age &lt;dbl&gt; | sex &lt;dbl&gt; | painloc &lt;dbl&gt; | painexer &lt;dbl&gt; | relrest &lt;dbl&gt; | pncaden &lt;dbl&gt; | cp &lt;dbl&gt; | trestbps &lt;dbl&gt; | htn &lt;dbl&gt; | chol &lt;dbl&gt; | smoke &lt;dbl&gt; | cigs &lt;dbl&gt; | years &lt;dbl&gt; | fbs &lt;dbl&gt; | dm &lt;dbl&gt; | famhist &lt;dbl&gt; | restecg &lt;dbl&gt; | ekgmo &lt;dbl&gt; | ekgday &lt;dbl&gt; | ekgyr &lt;dbl&gt; | dig &lt;dbl&gt; | prop &lt;dbl&gt; | nitr &lt;dbl&gt; | pro &lt;dbl&gt; | diuretic &lt;dbl&gt; | proto &lt;dbl&gt; | thaldur &lt;dbl&gt; | thaltime &lt;dbl&gt; | met &lt;dbl&gt; | thalach &lt;dbl&gt; | thalrest &lt;dbl&gt; | tpeakbps &lt;dbl&gt; | tpeakbpd &lt;dbl&gt; | dummy &lt;dbl&gt; | trestbpd &lt;dbl&gt; | exang &lt;dbl&gt; | xhypo &lt;dbl&gt; | oldpeak &lt;dbl&gt; | slope &lt;dbl&gt; | rldv5 &lt;dbl&gt; | rldv5e &lt;dbl&gt; | ca &lt;dbl&gt; | restckm &lt;dbl&gt; | exerckm &lt;dbl&gt; | restef &lt;dbl&gt; | restwm &lt;dbl&gt; | exeref &lt;dbl&gt; | exerwm &lt;dbl&gt; | thal &lt;dbl&gt; | thalsev &lt;dbl&gt; | thalpul &lt;dbl&gt; | earlobe &lt;dbl&gt; | cmo &lt;dbl&gt; | cday &lt;dbl&gt; | cyr &lt;dbl&gt; | num &lt;dbl&gt; | lmt &lt;dbl&gt; | ladprox &lt;dbl&gt; | laddist &lt;dbl&gt; | diag &lt;dbl&gt; | cxmain &lt;dbl&gt; | ramus &lt;dbl&gt; | om1 &lt;dbl&gt; | om2 &lt;dbl&gt; | rcaprox &lt;dbl&gt; | rcadist &lt;dbl&gt; | lvx1 &lt;dbl&gt; | lvx2 &lt;dbl&gt; | lvx3 &lt;dbl&gt; | lvx4 &lt;dbl&gt; | lvf &lt;dbl&gt; | cathef &lt;dbl&gt; | junk1 &lt;dbl&gt; | junk2 &lt;dbl&gt; | junk3 &lt;dbl&gt; | junk4 &lt;dbl&gt; | junk5 &lt;dbl&gt; | junk6 &lt;dbl&gt; | junk7 &lt;dbl&gt; | junk8 &lt;dbl&gt; | junk9 &lt;dbl&gt; | junk10 &lt;dbl&gt; | junk11 &lt;dbl&gt; | junk12 &lt;dbl&gt; | junk13 &lt;dbl&gt; | junk14 &lt;dbl&gt; | junk15 &lt;dbl&gt; | name &lt;chr&gt; |\n",
       "|---|---|---|---|---|---|---|---|---|---|---|---|---|---|---|---|---|---|---|---|---|---|---|---|---|---|---|---|---|---|---|---|---|---|---|---|---|---|---|---|---|---|---|---|---|---|---|---|---|---|---|---|---|---|---|---|---|---|---|---|---|---|---|---|---|---|---|---|---|---|---|---|---|---|---|---|---|---|---|---|---|---|---|---|---|---|---|---|---|---|\n",
       "| 1 | 15943882 | 63 | 1 | NA | NA | NA | -27 | 1 | 145 | 1 | 233 | NA | 50 | 20 | 1 | 0 | 1 | 2 | 2 |  3 | 1981 | 0 | 0 | 0 | 0 | 0 | 1 | 10.5 | 6 | 13 | 150 | 60 | 190 | 90 | 145 | 85 | 0 | 0 | 2.3 | 3 | NA | NA | 0 | NA | NA | NA | NA | NA | NA | 6 | NA | NA | NA | 2 | 16 | 1981 | 0 | 1 | 1 | 1 | NA | 1 | NA | 1 | NA | 1 | 1 | 1 | 1 | 1 | 1 | 1 | NA | NA | 0 | NA | NA | NA | NA | NA | NA | NA | NA | NA | 0 | 0 | 0 | 0 | name |\n",
       "| 2 | 15964847 | 67 | 1 | NA | NA | NA | -27 | 4 | 160 | 1 | 286 | NA | 40 | 40 | 0 | 0 | 1 | 2 | 3 |  5 | 1981 | 0 | 1 | 0 | 0 | 0 | 1 |  9.5 | 6 | 13 | 108 | 64 | 160 | 90 | 160 | 90 | 1 | 0 | 1.5 | 2 | NA | NA | 3 | NA | NA | NA | NA | NA | NA | 3 | NA | NA | NA | 2 |  5 | 1981 | 2 | 1 | 2 | 2 | NA | 2 | NA | 1 | NA | 1 | 1 | 1 | 1 | 1 | 1 | 1 | NA | NA | 0 | NA | NA | NA | NA | NA | NA | NA | NA | NA | 0 | 0 | 0 | 0 | name |\n",
       "| 3 | 15952199 | 67 | 1 | NA | NA | NA | -27 | 4 | 120 | 1 | 229 | NA | 20 | 35 | 0 | 0 | 1 | 2 | 2 | 19 | 1981 | 0 | 1 | 0 | 0 | 0 | 1 |  8.5 | 6 | 10 | 129 | 78 | 140 | 80 | 120 | 80 | 1 | 0 | 2.6 | 2 | NA | NA | 2 | NA | NA | NA | NA | NA | NA | 7 | NA | NA | NA | 2 | 20 | 1981 | 1 | 1 | 1 | 1 | NA | 1 | NA | 1 | NA | 2 | 2 | 1 | 1 | 1 | 7 | 3 | NA | NA | 0 | NA | NA | NA | NA | NA | NA | NA | NA | NA | 0 | 0 | 0 | 0 | name |\n",
       "| ⋮ | ⋮ | ⋮ | ⋮ | ⋮ | ⋮ | ⋮ | ⋮ | ⋮ | ⋮ | ⋮ | ⋮ | ⋮ | ⋮ | ⋮ | ⋮ | ⋮ | ⋮ | ⋮ | ⋮ | ⋮ | ⋮ | ⋮ | ⋮ | ⋮ | ⋮ | ⋮ | ⋮ | ⋮ | ⋮ | ⋮ | ⋮ | ⋮ | ⋮ | ⋮ | ⋮ | ⋮ | ⋮ | ⋮ | ⋮ | ⋮ | ⋮ | ⋮ | ⋮ | ⋮ | ⋮ | ⋮ | ⋮ | ⋮ | ⋮ | ⋮ | ⋮ | ⋮ | ⋮ | ⋮ | ⋮ | ⋮ | ⋮ | ⋮ | ⋮ | ⋮ | ⋮ | ⋮ | ⋮ | ⋮ | ⋮ | ⋮ | ⋮ | ⋮ | ⋮ | ⋮ | ⋮ | ⋮ | ⋮ | ⋮ | ⋮ | ⋮ | ⋮ | ⋮ | ⋮ | ⋮ | ⋮ | ⋮ | ⋮ | ⋮ | ⋮ | ⋮ | ⋮ | ⋮ | ⋮ |\n",
       "| 1668 | 13203 | 57 | 1 | 1 | NA | NA | NA | 4 | 130 | 0 | 305.69 | NA | NA | NA | 0 | 0 | NA | 0 | 5 | 10 | 1989 | 0 | 0 | 0 | 0 | 0 | 100 | 10 |  4 | 5.0 | 105 | 67 | 210 | 120 | 130 | 80 | 0 | 0 | 4 | 1 | NA | NA | NA | NA | NA | NA | NA | NA | NA | NA | NA | NA | NA | NA | NA | NA | 3 | -1 | -1 |  2 | -1 | -1 | -1 |  2 | -1 | -1 |  2 | 1 | 1 | 5 | 6 | 2 | NA | NA | NA | NA | NA | NA | NA | NA | NA | NA | NA | NA | NA | NA | NA | NA | Torok    |\n",
       "| 1669 | 14205 | 47 | 1 | 1 | NA | NA | NA | 4 | 100 | 0 | 127.05 | NA | NA | NA | 0 | 0 | NA | 0 | 2 | 22 | 1989 | 0 | 0 | 0 | 0 | 0 | 100 | 10 | NA | 5.0 | 135 | 90 | 180 |  90 | 100 | 60 | 0 | 0 | 0 | 0 | NA | NA | NA | NA | NA | NA | NA | NA | NA | NA | NA | NA | NA | NA | NA | NA | 0 | -1 | -1 | -1 | -1 | -1 | -1 | -1 | -1 | -1 | -1 | 1 | 1 | 1 | 1 | 1 | NA | NA | NA | NA | NA | NA | NA | NA | NA | NA | NA | NA | NA | NA | NA | NA | Veszelsz |\n",
       "| 1670 | 15403 | 36 | 1 | 1 | NA | NA | NA | 3 | 120 | 0 | 221.76 | NA | NA | NA | 0 | 0 | NA | 0 | 3 |  2 | 1989 | 0 | 0 | 0 | 0 | 0 | 150 | 19 | NA | 7.5 | 147 | 76 | 180 |  85 | 120 | 80 | 0 | 0 | 0 | 0 | NA | NA | NA | NA | NA | NA | NA | NA | NA | NA | NA | NA | NA | NA | NA | NA | 0 | -1 | -1 | -1 | -1 | -1 | -1 | -1 | -1 | -1 | -1 | 1 | 1 | 1 | 1 | 1 | NA | NA | NA | NA | NA | NA | NA | NA | NA | NA | NA | NA | NA | NA | NA | NA | Takacs   |\n",
       "\n"
      ],
      "text/plain": [
       "     id   ccf      age sex painloc painexer relrest pncaden cp trestbps htn\n",
       "1    1    15943882 63  1   NA      NA       NA      -27     1  145      1  \n",
       "2    2    15964847 67  1   NA      NA       NA      -27     4  160      1  \n",
       "3    3    15952199 67  1   NA      NA       NA      -27     4  120      1  \n",
       "⋮    ⋮    ⋮        ⋮   ⋮   ⋮       ⋮        ⋮       ⋮       ⋮  ⋮        ⋮  \n",
       "1539 1668 13203    57  1   1       NA       NA      NA      4  130      0  \n",
       "1540 1669 14205    47  1   1       NA       NA      NA      4  100      0  \n",
       "1541 1670 15403    36  1   1       NA       NA      NA      3  120      0  \n",
       "     chol   smoke cigs years fbs dm famhist restecg ekgmo ekgday ekgyr dig prop\n",
       "1    233    NA    50   20    1   0  1       2       2      3     1981  0   0   \n",
       "2    286    NA    40   40    0   0  1       2       3      5     1981  0   1   \n",
       "3    229    NA    20   35    0   0  1       2       2     19     1981  0   1   \n",
       "⋮    ⋮      ⋮     ⋮    ⋮     ⋮   ⋮  ⋮       ⋮       ⋮     ⋮      ⋮     ⋮   ⋮   \n",
       "1539 305.69 NA    NA   NA    0   0  NA      0       5     10     1989  0   0   \n",
       "1540 127.05 NA    NA   NA    0   0  NA      0       2     22     1989  0   0   \n",
       "1541 221.76 NA    NA   NA    0   0  NA      0       3      2     1989  0   0   \n",
       "     nitr pro diuretic proto thaldur thaltime met thalach thalrest tpeakbps\n",
       "1    0    0   0        1     10.5    6        13  150     60       190     \n",
       "2    0    0   0        1      9.5    6        13  108     64       160     \n",
       "3    0    0   0        1      8.5    6        10  129     78       140     \n",
       "⋮    ⋮    ⋮   ⋮        ⋮     ⋮       ⋮        ⋮   ⋮       ⋮        ⋮       \n",
       "1539 0    0   0        100   10       4       5.0 105     67       210     \n",
       "1540 0    0   0        100   10      NA       5.0 135     90       180     \n",
       "1541 0    0   0        150   19      NA       7.5 147     76       180     \n",
       "     tpeakbpd dummy trestbpd exang xhypo oldpeak slope rldv5 rldv5e ca restckm\n",
       "1    90       145   85       0     0     2.3     3     NA    NA     0  NA     \n",
       "2    90       160   90       1     0     1.5     2     NA    NA     3  NA     \n",
       "3    80       120   80       1     0     2.6     2     NA    NA     2  NA     \n",
       "⋮    ⋮        ⋮     ⋮        ⋮     ⋮     ⋮       ⋮     ⋮     ⋮      ⋮  ⋮      \n",
       "1539 120      130   80       0     0     4       1     NA    NA     NA NA     \n",
       "1540  90      100   60       0     0     0       0     NA    NA     NA NA     \n",
       "1541  85      120   80       0     0     0       0     NA    NA     NA NA     \n",
       "     exerckm restef restwm exeref exerwm thal thalsev thalpul earlobe cmo cday\n",
       "1    NA      NA     NA     NA     NA     6    NA      NA      NA      2   16  \n",
       "2    NA      NA     NA     NA     NA     3    NA      NA      NA      2    5  \n",
       "3    NA      NA     NA     NA     NA     7    NA      NA      NA      2   20  \n",
       "⋮    ⋮       ⋮      ⋮      ⋮      ⋮      ⋮    ⋮       ⋮       ⋮       ⋮   ⋮   \n",
       "1539 NA      NA     NA     NA     NA     NA   NA      NA      NA      NA  NA  \n",
       "1540 NA      NA     NA     NA     NA     NA   NA      NA      NA      NA  NA  \n",
       "1541 NA      NA     NA     NA     NA     NA   NA      NA      NA      NA  NA  \n",
       "     cyr  num lmt ladprox laddist diag cxmain ramus om1 om2 rcaprox rcadist\n",
       "1    1981 0   1   1       1       NA   1      NA    1   NA  1       1      \n",
       "2    1981 2   1   2       2       NA   2      NA    1   NA  1       1      \n",
       "3    1981 1   1   1       1       NA   1      NA    1   NA  2       2      \n",
       "⋮    ⋮    ⋮   ⋮   ⋮       ⋮       ⋮    ⋮      ⋮     ⋮   ⋮   ⋮       ⋮      \n",
       "1539 NA   3   -1  -1       2      -1   -1     -1     2  -1  -1       2     \n",
       "1540 NA   0   -1  -1      -1      -1   -1     -1    -1  -1  -1      -1     \n",
       "1541 NA   0   -1  -1      -1      -1   -1     -1    -1  -1  -1      -1     \n",
       "     lvx1 lvx2 lvx3 lvx4 lvf cathef junk1 junk2 junk3 junk4 junk5 junk6 junk7\n",
       "1    1    1    1    1    1   NA     NA    0     NA    NA    NA    NA    NA   \n",
       "2    1    1    1    1    1   NA     NA    0     NA    NA    NA    NA    NA   \n",
       "3    1    1    1    7    3   NA     NA    0     NA    NA    NA    NA    NA   \n",
       "⋮    ⋮    ⋮    ⋮    ⋮    ⋮   ⋮      ⋮     ⋮     ⋮     ⋮     ⋮     ⋮     ⋮    \n",
       "1539 1    1    5    6    2   NA     NA    NA    NA    NA    NA    NA    NA   \n",
       "1540 1    1    1    1    1   NA     NA    NA    NA    NA    NA    NA    NA   \n",
       "1541 1    1    1    1    1   NA     NA    NA    NA    NA    NA    NA    NA   \n",
       "     junk8 junk9 junk10 junk11 junk12 junk13 junk14 junk15 name    \n",
       "1    NA    NA    NA     NA     0      0      0      0      name    \n",
       "2    NA    NA    NA     NA     0      0      0      0      name    \n",
       "3    NA    NA    NA     NA     0      0      0      0      name    \n",
       "⋮    ⋮     ⋮     ⋮      ⋮      ⋮      ⋮      ⋮      ⋮      ⋮       \n",
       "1539 NA    NA    NA     NA     NA     NA     NA     NA     Torok   \n",
       "1540 NA    NA    NA     NA     NA     NA     NA     NA     Veszelsz\n",
       "1541 NA    NA    NA     NA     NA     NA     NA     NA     Takacs  "
      ]
     },
     "metadata": {},
     "output_type": "display_data"
    }
   ],
   "source": [
    "row_count <- nrow(heart_raw) / 12\n",
    "row_indexes <- tibble(id = rep(1:row_count, each = 12), Y = rep(1:12, times = row_count))\n",
    "heart_indexed <- bind_cols(row_indexes, heart_raw)\n",
    "heart_wide <- heart_indexed |>\n",
    "    pivot_wider(names_from = Y, values_from = X1:X8, names_vary = \"slowest\") |>\n",
    "    select(!c(id, X8_1, X4_12:X8_12)) |>\n",
    "    type_convert()\n",
    "colnames(heart_wide) <- c(\"id\", \"ccf\", \"age\", \"sex\", \"painloc\", \"painexer\", \"relrest\", \"pncaden\", \"cp\", \"trestbps\",\n",
    "                          \"htn\", \"chol\", \"smoke\", \"cigs\", \"years\", \"fbs\", \"dm\", \"famhist\", \"restecg\", \"ekgmo\",\n",
    "                          \"ekgday\", \"ekgyr\", \"dig\", \"prop\", \"nitr\", \"pro\", \"diuretic\", \"proto\", \"thaldur\", \"thaltime\",\n",
    "                          \"met\", \"thalach\", \"thalrest\", \"tpeakbps\", \"tpeakbpd\", \"dummy\", \"trestbpd\", \"exang\", \"xhypo\", \"oldpeak\",\n",
    "                          \"slope\", \"rldv5\", \"rldv5e\", \"ca\", \"restckm\", \"exerckm\", \"restef\", \"restwm\", \"exeref\", \"exerwm\",\n",
    "                          \"thal\", \"thalsev\", \"thalpul\", \"earlobe\", \"cmo\", \"cday\", \"cyr\", \"num\", \"lmt\", \"ladprox\",\n",
    "                          \"laddist\", \"diag\", \"cxmain\", \"ramus\", \"om1\", \"om2\", \"rcaprox\", \"rcadist\", \"lvx1\", \"lvx2\",\n",
    "                          \"lvx3\", \"lvx4\", \"lvf\", \"cathef\", \"junk1\", \"junk2\", \"junk3\", \"junk4\", \"junk5\", \"junk6\",\n",
    "                          \"junk7\", \"junk8\", \"junk9\", \"junk10\", \"junk11\", \"junk12\", \"junk13\", \"junk14\", \"junk15\", \"name\")\n",
    "heart_wide"
   ]
  },
  {
   "cell_type": "markdown",
   "id": "45f7648e-6aa4-4aab-b71d-16652c3bb2c0",
   "metadata": {},
   "source": [
    "#### Excluded variables\n",
    "Only a small portion of these 90 variables are useful in our classification. The rest have been excluded for various reasons, as explained in the following table.\n",
    "| Reason for exclusion | Variables excluded for this reason |\n",
    "| -------------------- | -----------------------------------|\n",
    "| Irrelevant (for instance, dates) | id, ccf, ekgmo, ekgday, ekgyr, cmo, cday, cyr, name |\n",
    "| Categorical variable (more than 2 categories) | cp, restecg, proto, slope, restwm, exerwm, thal, lmt, ladprox, laddist, diag, cxmain, ramus, om1, om2, rcaprox, rcadist |\n",
    "| Categorical variable (2 categories, true/false etc.) | sex, painloc, painexer, relrest, smoke, fbs, dm, famhist, dig, prop, nitr, pro, diuretic, exang, xhypo |\n",
    "| Too few possible values (for instance, small integers only) | pncaden, ca |\n",
    "| No documentation | htn, dummy, junk, restckm, exerckm, thalsev, thalpul, earlobe, lvx1, lvx2, lvx3, lvx4, lvf, cathef, junk |\n",
    "| Too many NA values | cigs, years, thaltime, rldv5, rldv5e, restef, exeref |"
   ]
  },
  {
   "cell_type": "code",
   "execution_count": 4,
   "id": "65bdd70e-0c8e-45ac-a529-6d27bd95e0a6",
   "metadata": {},
   "outputs": [
    {
     "data": {
      "text/html": [
       "<table class=\"dataframe\">\n",
       "<caption>A tibble: 889 × 12</caption>\n",
       "<thead>\n",
       "\t<tr><th scope=col>age</th><th scope=col>chol</th><th scope=col>thaldur</th><th scope=col>met</th><th scope=col>thalach</th><th scope=col>thalrest</th><th scope=col>tpeakbps</th><th scope=col>tpeakbpd</th><th scope=col>trestbps</th><th scope=col>trestbpd</th><th scope=col>oldpeak</th><th scope=col>disease</th></tr>\n",
       "\t<tr><th scope=col>&lt;dbl&gt;</th><th scope=col>&lt;dbl&gt;</th><th scope=col>&lt;dbl&gt;</th><th scope=col>&lt;dbl&gt;</th><th scope=col>&lt;dbl&gt;</th><th scope=col>&lt;dbl&gt;</th><th scope=col>&lt;dbl&gt;</th><th scope=col>&lt;dbl&gt;</th><th scope=col>&lt;dbl&gt;</th><th scope=col>&lt;dbl&gt;</th><th scope=col>&lt;dbl&gt;</th><th scope=col>&lt;lgl&gt;</th></tr>\n",
       "</thead>\n",
       "<tbody>\n",
       "\t<tr><td>63</td><td>233</td><td>10.5</td><td>13</td><td>150</td><td>60</td><td>190</td><td>90</td><td>145</td><td>85</td><td>2.3</td><td>FALSE</td></tr>\n",
       "\t<tr><td>37</td><td>250</td><td>13.0</td><td>17</td><td>187</td><td>84</td><td>195</td><td>68</td><td>130</td><td>78</td><td>3.5</td><td>FALSE</td></tr>\n",
       "\t<tr><td>41</td><td>204</td><td> 7.0</td><td> 9</td><td>172</td><td>71</td><td>160</td><td>74</td><td>130</td><td>86</td><td>1.4</td><td>FALSE</td></tr>\n",
       "\t<tr><td>⋮</td><td>⋮</td><td>⋮</td><td>⋮</td><td>⋮</td><td>⋮</td><td>⋮</td><td>⋮</td><td>⋮</td><td>⋮</td><td>⋮</td><td>⋮</td></tr>\n",
       "\t<tr><td>51</td><td>300.30</td><td> 8</td><td>3.5</td><td>120</td><td>90</td><td>162</td><td> 90</td><td>140</td><td>80</td><td>0</td><td>TRUE</td></tr>\n",
       "\t<tr><td>61</td><td>250.25</td><td> 1</td><td>1.5</td><td> 75</td><td>58</td><td>150</td><td> 90</td><td>120</td><td>80</td><td>1</td><td>TRUE</td></tr>\n",
       "\t<tr><td>57</td><td>305.69</td><td>10</td><td>5.0</td><td>105</td><td>67</td><td>210</td><td>120</td><td>130</td><td>80</td><td>4</td><td>TRUE</td></tr>\n",
       "</tbody>\n",
       "</table>\n"
      ],
      "text/latex": [
       "A tibble: 889 × 12\n",
       "\\begin{tabular}{llllllllllll}\n",
       " age & chol & thaldur & met & thalach & thalrest & tpeakbps & tpeakbpd & trestbps & trestbpd & oldpeak & disease\\\\\n",
       " <dbl> & <dbl> & <dbl> & <dbl> & <dbl> & <dbl> & <dbl> & <dbl> & <dbl> & <dbl> & <dbl> & <lgl>\\\\\n",
       "\\hline\n",
       "\t 63 & 233 & 10.5 & 13 & 150 & 60 & 190 & 90 & 145 & 85 & 2.3 & FALSE\\\\\n",
       "\t 37 & 250 & 13.0 & 17 & 187 & 84 & 195 & 68 & 130 & 78 & 3.5 & FALSE\\\\\n",
       "\t 41 & 204 &  7.0 &  9 & 172 & 71 & 160 & 74 & 130 & 86 & 1.4 & FALSE\\\\\n",
       "\t ⋮ & ⋮ & ⋮ & ⋮ & ⋮ & ⋮ & ⋮ & ⋮ & ⋮ & ⋮ & ⋮ & ⋮\\\\\n",
       "\t 51 & 300.30 &  8 & 3.5 & 120 & 90 & 162 &  90 & 140 & 80 & 0 & TRUE\\\\\n",
       "\t 61 & 250.25 &  1 & 1.5 &  75 & 58 & 150 &  90 & 120 & 80 & 1 & TRUE\\\\\n",
       "\t 57 & 305.69 & 10 & 5.0 & 105 & 67 & 210 & 120 & 130 & 80 & 4 & TRUE\\\\\n",
       "\\end{tabular}\n"
      ],
      "text/markdown": [
       "\n",
       "A tibble: 889 × 12\n",
       "\n",
       "| age &lt;dbl&gt; | chol &lt;dbl&gt; | thaldur &lt;dbl&gt; | met &lt;dbl&gt; | thalach &lt;dbl&gt; | thalrest &lt;dbl&gt; | tpeakbps &lt;dbl&gt; | tpeakbpd &lt;dbl&gt; | trestbps &lt;dbl&gt; | trestbpd &lt;dbl&gt; | oldpeak &lt;dbl&gt; | disease &lt;lgl&gt; |\n",
       "|---|---|---|---|---|---|---|---|---|---|---|---|\n",
       "| 63 | 233 | 10.5 | 13 | 150 | 60 | 190 | 90 | 145 | 85 | 2.3 | FALSE |\n",
       "| 37 | 250 | 13.0 | 17 | 187 | 84 | 195 | 68 | 130 | 78 | 3.5 | FALSE |\n",
       "| 41 | 204 |  7.0 |  9 | 172 | 71 | 160 | 74 | 130 | 86 | 1.4 | FALSE |\n",
       "| ⋮ | ⋮ | ⋮ | ⋮ | ⋮ | ⋮ | ⋮ | ⋮ | ⋮ | ⋮ | ⋮ | ⋮ |\n",
       "| 51 | 300.30 |  8 | 3.5 | 120 | 90 | 162 |  90 | 140 | 80 | 0 | TRUE |\n",
       "| 61 | 250.25 |  1 | 1.5 |  75 | 58 | 150 |  90 | 120 | 80 | 1 | TRUE |\n",
       "| 57 | 305.69 | 10 | 5.0 | 105 | 67 | 210 | 120 | 130 | 80 | 4 | TRUE |\n",
       "\n"
      ],
      "text/plain": [
       "    age chol   thaldur met thalach thalrest tpeakbps tpeakbpd trestbps trestbpd\n",
       "1   63  233    10.5    13  150     60       190      90       145      85      \n",
       "2   37  250    13.0    17  187     84       195      68       130      78      \n",
       "3   41  204     7.0     9  172     71       160      74       130      86      \n",
       "⋮   ⋮   ⋮      ⋮       ⋮   ⋮       ⋮        ⋮        ⋮        ⋮        ⋮       \n",
       "887 51  300.30  8      3.5 120     90       162       90      140      80      \n",
       "888 61  250.25  1      1.5  75     58       150       90      120      80      \n",
       "889 57  305.69 10      5.0 105     67       210      120      130      80      \n",
       "    oldpeak disease\n",
       "1   2.3     FALSE  \n",
       "2   3.5     FALSE  \n",
       "3   1.4     FALSE  \n",
       "⋮   ⋮       ⋮      \n",
       "887 0       TRUE   \n",
       "888 1       TRUE   \n",
       "889 4       TRUE   "
      ]
     },
     "metadata": {},
     "output_type": "display_data"
    }
   ],
   "source": [
    "heart <- heart_wide |>\n",
    "    select(age, chol, thaldur, met, thalach, thalrest, tpeakbps, tpeakbpd, trestbps, trestbpd, oldpeak, num) |>\n",
    "    mutate(disease = as.logical(num), .keep = \"unused\") |>\n",
    "    drop_na()\n",
    "heart_split <- initial_split(heart, strata = disease)\n",
    "heart_testing <- testing(heart_split)\n",
    "heart_training <- training(heart_split)\n",
    "heart_training"
   ]
  },
  {
   "cell_type": "markdown",
   "id": "64850693-0280-487e-9677-83ae35ccb90d",
   "metadata": {},
   "source": [
    "### Discussion"
   ]
  },
  {
   "cell_type": "markdown",
   "id": "c09d7048-ff3a-4e2c-8cfb-1367ad578bd4",
   "metadata": {},
   "source": [
    "### References"
   ]
  }
 ],
 "metadata": {
  "kernelspec": {
   "display_name": "R",
   "language": "R",
   "name": "ir"
  },
  "language_info": {
   "codemirror_mode": "r",
   "file_extension": ".r",
   "mimetype": "text/x-r-source",
   "name": "R",
   "pygments_lexer": "r",
   "version": "4.1.3"
  }
 },
 "nbformat": 4,
 "nbformat_minor": 5
}
