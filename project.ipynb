{
 "cells": [
  {
   "cell_type": "markdown",
   "id": "a7c6b743-a6f1-440d-9ea8-347bea8f8472",
   "metadata": {},
   "source": [
    "# Project Report\n",
    "Group 60: Daniyal, Ruth, Thomas, Paul"
   ]
  },
  {
   "cell_type": "markdown",
   "id": "33fd0f3c-0d76-4e46-a2c7-fb6adcc8c018",
   "metadata": {},
   "source": [
    "## Title"
   ]
  },
  {
   "cell_type": "markdown",
   "id": "e7c04162-0a68-48d3-9478-8bfc17954d0a",
   "metadata": {},
   "source": [
    "### Introduction"
   ]
  },
  {
   "cell_type": "markdown",
   "id": "7dbc33dc-4ec5-4879-ba47-898453a8a4f1",
   "metadata": {},
   "source": [
    "### Methods & Results\n",
    "Our analysis makes use of the `repr`, `tidyverse`, and `tidymodels` packages in R."
   ]
  },
  {
   "cell_type": "code",
   "execution_count": 1,
   "id": "a6f78e6d-bcaf-429c-8512-e7a324c767a3",
   "metadata": {},
   "outputs": [
    {
     "name": "stderr",
     "output_type": "stream",
     "text": [
      "── \u001b[1mAttaching packages\u001b[22m ─────────────────────────────────────── tidyverse 1.3.1 ──\n",
      "\n",
      "\u001b[32m✔\u001b[39m \u001b[34mggplot2\u001b[39m 3.3.6     \u001b[32m✔\u001b[39m \u001b[34mpurrr  \u001b[39m 0.3.4\n",
      "\u001b[32m✔\u001b[39m \u001b[34mtibble \u001b[39m 3.1.7     \u001b[32m✔\u001b[39m \u001b[34mdplyr  \u001b[39m 1.0.9\n",
      "\u001b[32m✔\u001b[39m \u001b[34mtidyr  \u001b[39m 1.2.0     \u001b[32m✔\u001b[39m \u001b[34mstringr\u001b[39m 1.4.0\n",
      "\u001b[32m✔\u001b[39m \u001b[34mreadr  \u001b[39m 2.1.2     \u001b[32m✔\u001b[39m \u001b[34mforcats\u001b[39m 0.5.1\n",
      "\n",
      "── \u001b[1mConflicts\u001b[22m ────────────────────────────────────────── tidyverse_conflicts() ──\n",
      "\u001b[31m✖\u001b[39m \u001b[34mdplyr\u001b[39m::\u001b[32mfilter()\u001b[39m masks \u001b[34mstats\u001b[39m::filter()\n",
      "\u001b[31m✖\u001b[39m \u001b[34mdplyr\u001b[39m::\u001b[32mlag()\u001b[39m    masks \u001b[34mstats\u001b[39m::lag()\n",
      "\n",
      "── \u001b[1mAttaching packages\u001b[22m ────────────────────────────────────── tidymodels 1.0.0 ──\n",
      "\n",
      "\u001b[32m✔\u001b[39m \u001b[34mbroom       \u001b[39m 1.0.0     \u001b[32m✔\u001b[39m \u001b[34mrsample     \u001b[39m 1.0.0\n",
      "\u001b[32m✔\u001b[39m \u001b[34mdials       \u001b[39m 1.0.0     \u001b[32m✔\u001b[39m \u001b[34mtune        \u001b[39m 1.0.0\n",
      "\u001b[32m✔\u001b[39m \u001b[34minfer       \u001b[39m 1.0.2     \u001b[32m✔\u001b[39m \u001b[34mworkflows   \u001b[39m 1.0.0\n",
      "\u001b[32m✔\u001b[39m \u001b[34mmodeldata   \u001b[39m 1.0.0     \u001b[32m✔\u001b[39m \u001b[34mworkflowsets\u001b[39m 1.0.0\n",
      "\u001b[32m✔\u001b[39m \u001b[34mparsnip     \u001b[39m 1.0.0     \u001b[32m✔\u001b[39m \u001b[34myardstick   \u001b[39m 1.0.0\n",
      "\u001b[32m✔\u001b[39m \u001b[34mrecipes     \u001b[39m 1.0.1     \n",
      "\n",
      "── \u001b[1mConflicts\u001b[22m ───────────────────────────────────────── tidymodels_conflicts() ──\n",
      "\u001b[31m✖\u001b[39m \u001b[34mscales\u001b[39m::\u001b[32mdiscard()\u001b[39m masks \u001b[34mpurrr\u001b[39m::discard()\n",
      "\u001b[31m✖\u001b[39m \u001b[34mdplyr\u001b[39m::\u001b[32mfilter()\u001b[39m   masks \u001b[34mstats\u001b[39m::filter()\n",
      "\u001b[31m✖\u001b[39m \u001b[34mrecipes\u001b[39m::\u001b[32mfixed()\u001b[39m  masks \u001b[34mstringr\u001b[39m::fixed()\n",
      "\u001b[31m✖\u001b[39m \u001b[34mdplyr\u001b[39m::\u001b[32mlag()\u001b[39m      masks \u001b[34mstats\u001b[39m::lag()\n",
      "\u001b[31m✖\u001b[39m \u001b[34myardstick\u001b[39m::\u001b[32mspec()\u001b[39m masks \u001b[34mreadr\u001b[39m::spec()\n",
      "\u001b[31m✖\u001b[39m \u001b[34mrecipes\u001b[39m::\u001b[32mstep()\u001b[39m   masks \u001b[34mstats\u001b[39m::step()\n",
      "\u001b[34m•\u001b[39m Use \u001b[32mtidymodels_prefer()\u001b[39m to resolve common conflicts.\n",
      "\n"
     ]
    }
   ],
   "source": [
    "# Setup\n",
    "library(repr)\n",
    "library(tidyverse)\n",
    "library(tidymodels)\n",
    "options(repr.matrix.max.rows = 6)\n",
    "options(repr.plot.width = 8, repr.plot.height = 7)\n",
    "set.seed(9248)"
   ]
  },
  {
   "cell_type": "code",
   "execution_count": 17,
   "id": "25a0f9cb-3c29-4ff3-adeb-5440dbf656d3",
   "metadata": {},
   "outputs": [
    {
     "name": "stderr",
     "output_type": "stream",
     "text": [
      "Warning message:\n",
      "“One or more parsing issues, see `problems()` for details”\n",
      "\u001b[1mRows: \u001b[22m\u001b[34m18492\u001b[39m \u001b[1mColumns: \u001b[22m\u001b[34m7\u001b[39m\n",
      "\u001b[36m──\u001b[39m \u001b[1mColumn specification\u001b[22m \u001b[36m────────────────────────────────────────────────────────\u001b[39m\n",
      "\u001b[1mDelimiter:\u001b[22m \" \"\n",
      "\u001b[31mchr\u001b[39m (2): X3, X7\n",
      "\u001b[32mdbl\u001b[39m (5): X1, X2, X4, X5, X6\n",
      "\n",
      "\u001b[36mℹ\u001b[39m Use `spec()` to retrieve the full column specification for this data.\n",
      "\u001b[36mℹ\u001b[39m Specify the column types or set `show_col_types = FALSE` to quiet this message.\n",
      "Warning message:\n",
      "“Expected 2 pieces. Missing pieces filled with `NA` in 2303 rows [12, 24, 36, 48, 60, 72, 84, 96, 108, 120, 132, 144, 156, 168, 180, 192, 204, 216, 228, 240, ...].”\n"
     ]
    },
    {
     "data": {
      "text/html": [
       "<table class=\"dataframe\">\n",
       "<caption>A tibble: 18492 × 8</caption>\n",
       "<thead>\n",
       "\t<tr><th scope=col>X1</th><th scope=col>X2</th><th scope=col>X3</th><th scope=col>X4</th><th scope=col>X5</th><th scope=col>X6</th><th scope=col>X7</th><th scope=col>X8</th></tr>\n",
       "\t<tr><th scope=col>&lt;dbl&gt;</th><th scope=col>&lt;dbl&gt;</th><th scope=col>&lt;chr&gt;</th><th scope=col>&lt;dbl&gt;</th><th scope=col>&lt;dbl&gt;</th><th scope=col>&lt;dbl&gt;</th><th scope=col>&lt;dbl&gt;</th><th scope=col>&lt;dbl&gt;</th></tr>\n",
       "</thead>\n",
       "<tbody>\n",
       "\t<tr><td>  1</td><td>15943882</td><td>63 </td><td>1</td><td> NA</td><td>NA</td><td>  NA</td><td>NA</td></tr>\n",
       "\t<tr><td>-27</td><td>       1</td><td>145</td><td>1</td><td>233</td><td>NA</td><td>  50</td><td>20</td></tr>\n",
       "\t<tr><td>  1</td><td>       0</td><td>1  </td><td>2</td><td>  2</td><td> 3</td><td>1981</td><td> 0</td></tr>\n",
       "\t<tr><td>⋮</td><td>⋮</td><td>⋮</td><td>⋮</td><td>⋮</td><td>⋮</td><td>⋮</td><td>⋮</td></tr>\n",
       "\t<tr><td> 1</td><td> 1</td><td>NA    </td><td>NA</td><td>NA</td><td>NA</td><td>NA</td><td>NA</td></tr>\n",
       "\t<tr><td>NA</td><td>NA</td><td>NA    </td><td>NA</td><td>NA</td><td>NA</td><td>NA</td><td>NA</td></tr>\n",
       "\t<tr><td>NA</td><td>NA</td><td>Takacs</td><td>NA</td><td>NA</td><td>NA</td><td>NA</td><td>NA</td></tr>\n",
       "</tbody>\n",
       "</table>\n"
      ],
      "text/latex": [
       "A tibble: 18492 × 8\n",
       "\\begin{tabular}{llllllll}\n",
       " X1 & X2 & X3 & X4 & X5 & X6 & X7 & X8\\\\\n",
       " <dbl> & <dbl> & <chr> & <dbl> & <dbl> & <dbl> & <dbl> & <dbl>\\\\\n",
       "\\hline\n",
       "\t   1 & 15943882 & 63  & 1 &  NA & NA &   NA & NA\\\\\n",
       "\t -27 &        1 & 145 & 1 & 233 & NA &   50 & 20\\\\\n",
       "\t   1 &        0 & 1   & 2 &   2 &  3 & 1981 &  0\\\\\n",
       "\t ⋮ & ⋮ & ⋮ & ⋮ & ⋮ & ⋮ & ⋮ & ⋮\\\\\n",
       "\t  1 &  1 & NA     & NA & NA & NA & NA & NA\\\\\n",
       "\t NA & NA & NA     & NA & NA & NA & NA & NA\\\\\n",
       "\t NA & NA & Takacs & NA & NA & NA & NA & NA\\\\\n",
       "\\end{tabular}\n"
      ],
      "text/markdown": [
       "\n",
       "A tibble: 18492 × 8\n",
       "\n",
       "| X1 &lt;dbl&gt; | X2 &lt;dbl&gt; | X3 &lt;chr&gt; | X4 &lt;dbl&gt; | X5 &lt;dbl&gt; | X6 &lt;dbl&gt; | X7 &lt;dbl&gt; | X8 &lt;dbl&gt; |\n",
       "|---|---|---|---|---|---|---|---|\n",
       "|   1 | 15943882 | 63  | 1 |  NA | NA |   NA | NA |\n",
       "| -27 |        1 | 145 | 1 | 233 | NA |   50 | 20 |\n",
       "|   1 |        0 | 1   | 2 |   2 |  3 | 1981 |  0 |\n",
       "| ⋮ | ⋮ | ⋮ | ⋮ | ⋮ | ⋮ | ⋮ | ⋮ |\n",
       "|  1 |  1 | NA     | NA | NA | NA | NA | NA |\n",
       "| NA | NA | NA     | NA | NA | NA | NA | NA |\n",
       "| NA | NA | Takacs | NA | NA | NA | NA | NA |\n",
       "\n"
      ],
      "text/plain": [
       "      X1  X2       X3     X4 X5  X6 X7   X8\n",
       "1       1 15943882 63     1   NA NA   NA NA\n",
       "2     -27        1 145    1  233 NA   50 20\n",
       "3       1        0 1      2    2  3 1981  0\n",
       "⋮     ⋮   ⋮        ⋮      ⋮  ⋮   ⋮  ⋮    ⋮ \n",
       "18490  1   1       NA     NA NA  NA NA   NA\n",
       "18491 NA  NA       NA     NA NA  NA NA   NA\n",
       "18492 NA  NA       Takacs NA NA  NA NA   NA"
      ]
     },
     "metadata": {},
     "output_type": "display_data"
    },
    {
     "data": {
      "text/html": [
       "<table class=\"dataframe\">\n",
       "<caption>A tibble: 18492 × 10</caption>\n",
       "<thead>\n",
       "\t<tr><th scope=col>id</th><th scope=col>Y</th><th scope=col>X1</th><th scope=col>X2</th><th scope=col>X3</th><th scope=col>X4</th><th scope=col>X5</th><th scope=col>X6</th><th scope=col>X7</th><th scope=col>X8</th></tr>\n",
       "\t<tr><th scope=col>&lt;int&gt;</th><th scope=col>&lt;int&gt;</th><th scope=col>&lt;dbl&gt;</th><th scope=col>&lt;dbl&gt;</th><th scope=col>&lt;chr&gt;</th><th scope=col>&lt;dbl&gt;</th><th scope=col>&lt;dbl&gt;</th><th scope=col>&lt;dbl&gt;</th><th scope=col>&lt;dbl&gt;</th><th scope=col>&lt;dbl&gt;</th></tr>\n",
       "</thead>\n",
       "<tbody>\n",
       "\t<tr><td>1</td><td>1</td><td>  1</td><td>15943882</td><td>63 </td><td>1</td><td> NA</td><td>NA</td><td>  NA</td><td>NA</td></tr>\n",
       "\t<tr><td>1</td><td>2</td><td>-27</td><td>       1</td><td>145</td><td>1</td><td>233</td><td>NA</td><td>  50</td><td>20</td></tr>\n",
       "\t<tr><td>1</td><td>3</td><td>  1</td><td>       0</td><td>1  </td><td>2</td><td>  2</td><td> 3</td><td>1981</td><td> 0</td></tr>\n",
       "\t<tr><td>⋮</td><td>⋮</td><td>⋮</td><td>⋮</td><td>⋮</td><td>⋮</td><td>⋮</td><td>⋮</td><td>⋮</td><td>⋮</td></tr>\n",
       "\t<tr><td>1541</td><td>10</td><td> 1</td><td> 1</td><td>NA    </td><td>NA</td><td>NA</td><td>NA</td><td>NA</td><td>NA</td></tr>\n",
       "\t<tr><td>1541</td><td>11</td><td>NA</td><td>NA</td><td>NA    </td><td>NA</td><td>NA</td><td>NA</td><td>NA</td><td>NA</td></tr>\n",
       "\t<tr><td>1541</td><td>12</td><td>NA</td><td>NA</td><td>Takacs</td><td>NA</td><td>NA</td><td>NA</td><td>NA</td><td>NA</td></tr>\n",
       "</tbody>\n",
       "</table>\n"
      ],
      "text/latex": [
       "A tibble: 18492 × 10\n",
       "\\begin{tabular}{llllllllll}\n",
       " id & Y & X1 & X2 & X3 & X4 & X5 & X6 & X7 & X8\\\\\n",
       " <int> & <int> & <dbl> & <dbl> & <chr> & <dbl> & <dbl> & <dbl> & <dbl> & <dbl>\\\\\n",
       "\\hline\n",
       "\t 1 & 1 &   1 & 15943882 & 63  & 1 &  NA & NA &   NA & NA\\\\\n",
       "\t 1 & 2 & -27 &        1 & 145 & 1 & 233 & NA &   50 & 20\\\\\n",
       "\t 1 & 3 &   1 &        0 & 1   & 2 &   2 &  3 & 1981 &  0\\\\\n",
       "\t ⋮ & ⋮ & ⋮ & ⋮ & ⋮ & ⋮ & ⋮ & ⋮ & ⋮ & ⋮\\\\\n",
       "\t 1541 & 10 &  1 &  1 & NA     & NA & NA & NA & NA & NA\\\\\n",
       "\t 1541 & 11 & NA & NA & NA     & NA & NA & NA & NA & NA\\\\\n",
       "\t 1541 & 12 & NA & NA & Takacs & NA & NA & NA & NA & NA\\\\\n",
       "\\end{tabular}\n"
      ],
      "text/markdown": [
       "\n",
       "A tibble: 18492 × 10\n",
       "\n",
       "| id &lt;int&gt; | Y &lt;int&gt; | X1 &lt;dbl&gt; | X2 &lt;dbl&gt; | X3 &lt;chr&gt; | X4 &lt;dbl&gt; | X5 &lt;dbl&gt; | X6 &lt;dbl&gt; | X7 &lt;dbl&gt; | X8 &lt;dbl&gt; |\n",
       "|---|---|---|---|---|---|---|---|---|---|\n",
       "| 1 | 1 |   1 | 15943882 | 63  | 1 |  NA | NA |   NA | NA |\n",
       "| 1 | 2 | -27 |        1 | 145 | 1 | 233 | NA |   50 | 20 |\n",
       "| 1 | 3 |   1 |        0 | 1   | 2 |   2 |  3 | 1981 |  0 |\n",
       "| ⋮ | ⋮ | ⋮ | ⋮ | ⋮ | ⋮ | ⋮ | ⋮ | ⋮ | ⋮ |\n",
       "| 1541 | 10 |  1 |  1 | NA     | NA | NA | NA | NA | NA |\n",
       "| 1541 | 11 | NA | NA | NA     | NA | NA | NA | NA | NA |\n",
       "| 1541 | 12 | NA | NA | Takacs | NA | NA | NA | NA | NA |\n",
       "\n"
      ],
      "text/plain": [
       "      id   Y  X1  X2       X3     X4 X5  X6 X7   X8\n",
       "1     1    1    1 15943882 63     1   NA NA   NA NA\n",
       "2     1    2  -27        1 145    1  233 NA   50 20\n",
       "3     1    3    1        0 1      2    2  3 1981  0\n",
       "⋮     ⋮    ⋮  ⋮   ⋮        ⋮      ⋮  ⋮   ⋮  ⋮    ⋮ \n",
       "18490 1541 10  1   1       NA     NA NA  NA NA   NA\n",
       "18491 1541 11 NA  NA       NA     NA NA  NA NA   NA\n",
       "18492 1541 12 NA  NA       Takacs NA NA  NA NA   NA"
      ]
     },
     "metadata": {},
     "output_type": "display_data"
    },
    {
     "name": "stderr",
     "output_type": "stream",
     "text": [
      "\n",
      "\u001b[36m──\u001b[39m \u001b[1mColumn specification\u001b[22m \u001b[36m────────────────────────────────────────────────────────\u001b[39m\n",
      "cols(\n",
      "  X3_1 = \u001b[32mcol_double()\u001b[39m,\n",
      "  X3_2 = \u001b[32mcol_double()\u001b[39m,\n",
      "  X3_3 = \u001b[32mcol_double()\u001b[39m,\n",
      "  X3_4 = \u001b[32mcol_double()\u001b[39m,\n",
      "  X3_5 = \u001b[32mcol_double()\u001b[39m,\n",
      "  X3_6 = \u001b[32mcol_double()\u001b[39m,\n",
      "  X3_7 = \u001b[32mcol_double()\u001b[39m,\n",
      "  X3_8 = \u001b[32mcol_double()\u001b[39m,\n",
      "  X3_9 = \u001b[32mcol_double()\u001b[39m,\n",
      "  X3_10 = \u001b[32mcol_double()\u001b[39m,\n",
      "  X3_11 = \u001b[32mcol_double()\u001b[39m,\n",
      "  X3_12 = \u001b[31mcol_character()\u001b[39m\n",
      ")\n",
      "\n"
     ]
    },
    {
     "data": {
      "text/html": [
       "<table class=\"dataframe\">\n",
       "<caption>A tibble: 1541 × 83</caption>\n",
       "<thead>\n",
       "\t<tr><th scope=col>1</th><th scope=col>2</th><th scope=col>3</th><th scope=col>4</th><th scope=col>5</th><th scope=col>6</th><th scope=col>7</th><th scope=col>8</th><th scope=col>9</th><th scope=col>10</th><th scope=col>⋯</th><th scope=col>74</th><th scope=col>75</th><th scope=col>76</th><th scope=col>77</th><th scope=col>78</th><th scope=col>79</th><th scope=col>80</th><th scope=col>81</th><th scope=col>82</th><th scope=col>83</th></tr>\n",
       "\t<tr><th scope=col>&lt;dbl&gt;</th><th scope=col>&lt;dbl&gt;</th><th scope=col>&lt;dbl&gt;</th><th scope=col>&lt;dbl&gt;</th><th scope=col>&lt;dbl&gt;</th><th scope=col>&lt;dbl&gt;</th><th scope=col>&lt;dbl&gt;</th><th scope=col>&lt;dbl&gt;</th><th scope=col>&lt;dbl&gt;</th><th scope=col>&lt;dbl&gt;</th><th scope=col>⋯</th><th scope=col>&lt;dbl&gt;</th><th scope=col>&lt;dbl&gt;</th><th scope=col>&lt;dbl&gt;</th><th scope=col>&lt;dbl&gt;</th><th scope=col>&lt;dbl&gt;</th><th scope=col>&lt;dbl&gt;</th><th scope=col>&lt;dbl&gt;</th><th scope=col>&lt;dbl&gt;</th><th scope=col>&lt;dbl&gt;</th><th scope=col>&lt;chr&gt;</th></tr>\n",
       "</thead>\n",
       "<tbody>\n",
       "\t<tr><td>1</td><td>15943882</td><td>63</td><td>1</td><td>NA</td><td>NA</td><td>NA</td><td>-27</td><td>1</td><td>145</td><td>⋯</td><td>NA</td><td>NA</td><td>NA</td><td>NA</td><td>NA</td><td>0</td><td>0</td><td>0</td><td>0</td><td>name</td></tr>\n",
       "\t<tr><td>2</td><td>15964847</td><td>67</td><td>1</td><td>NA</td><td>NA</td><td>NA</td><td>-27</td><td>4</td><td>160</td><td>⋯</td><td>NA</td><td>NA</td><td>NA</td><td>NA</td><td>NA</td><td>0</td><td>0</td><td>0</td><td>0</td><td>name</td></tr>\n",
       "\t<tr><td>3</td><td>15952199</td><td>67</td><td>1</td><td>NA</td><td>NA</td><td>NA</td><td>-27</td><td>4</td><td>120</td><td>⋯</td><td>NA</td><td>NA</td><td>NA</td><td>NA</td><td>NA</td><td>0</td><td>0</td><td>0</td><td>0</td><td>name</td></tr>\n",
       "\t<tr><td>⋮</td><td>⋮</td><td>⋮</td><td>⋮</td><td>⋮</td><td>⋮</td><td>⋮</td><td>⋮</td><td>⋮</td><td>⋮</td><td>⋱</td><td>⋮</td><td>⋮</td><td>⋮</td><td>⋮</td><td>⋮</td><td>⋮</td><td>⋮</td><td>⋮</td><td>⋮</td><td>⋮</td></tr>\n",
       "\t<tr><td>1668</td><td>13203</td><td>57</td><td>1</td><td>1</td><td>NA</td><td>NA</td><td>NA</td><td>4</td><td>130</td><td>⋯</td><td>NA</td><td>NA</td><td>NA</td><td>NA</td><td>NA</td><td>NA</td><td>NA</td><td>NA</td><td>NA</td><td>Torok   </td></tr>\n",
       "\t<tr><td>1669</td><td>14205</td><td>47</td><td>1</td><td>1</td><td>NA</td><td>NA</td><td>NA</td><td>4</td><td>100</td><td>⋯</td><td>NA</td><td>NA</td><td>NA</td><td>NA</td><td>NA</td><td>NA</td><td>NA</td><td>NA</td><td>NA</td><td>Veszelsz</td></tr>\n",
       "\t<tr><td>1670</td><td>15403</td><td>36</td><td>1</td><td>1</td><td>NA</td><td>NA</td><td>NA</td><td>3</td><td>120</td><td>⋯</td><td>NA</td><td>NA</td><td>NA</td><td>NA</td><td>NA</td><td>NA</td><td>NA</td><td>NA</td><td>NA</td><td>Takacs  </td></tr>\n",
       "</tbody>\n",
       "</table>\n"
      ],
      "text/latex": [
       "A tibble: 1541 × 83\n",
       "\\begin{tabular}{lllllllllllllllllllll}\n",
       " 1 & 2 & 3 & 4 & 5 & 6 & 7 & 8 & 9 & 10 & ⋯ & 74 & 75 & 76 & 77 & 78 & 79 & 80 & 81 & 82 & 83\\\\\n",
       " <dbl> & <dbl> & <dbl> & <dbl> & <dbl> & <dbl> & <dbl> & <dbl> & <dbl> & <dbl> & ⋯ & <dbl> & <dbl> & <dbl> & <dbl> & <dbl> & <dbl> & <dbl> & <dbl> & <dbl> & <chr>\\\\\n",
       "\\hline\n",
       "\t 1 & 15943882 & 63 & 1 & NA & NA & NA & -27 & 1 & 145 & ⋯ & NA & NA & NA & NA & NA & 0 & 0 & 0 & 0 & name\\\\\n",
       "\t 2 & 15964847 & 67 & 1 & NA & NA & NA & -27 & 4 & 160 & ⋯ & NA & NA & NA & NA & NA & 0 & 0 & 0 & 0 & name\\\\\n",
       "\t 3 & 15952199 & 67 & 1 & NA & NA & NA & -27 & 4 & 120 & ⋯ & NA & NA & NA & NA & NA & 0 & 0 & 0 & 0 & name\\\\\n",
       "\t ⋮ & ⋮ & ⋮ & ⋮ & ⋮ & ⋮ & ⋮ & ⋮ & ⋮ & ⋮ & ⋱ & ⋮ & ⋮ & ⋮ & ⋮ & ⋮ & ⋮ & ⋮ & ⋮ & ⋮ & ⋮\\\\\n",
       "\t 1668 & 13203 & 57 & 1 & 1 & NA & NA & NA & 4 & 130 & ⋯ & NA & NA & NA & NA & NA & NA & NA & NA & NA & Torok   \\\\\n",
       "\t 1669 & 14205 & 47 & 1 & 1 & NA & NA & NA & 4 & 100 & ⋯ & NA & NA & NA & NA & NA & NA & NA & NA & NA & Veszelsz\\\\\n",
       "\t 1670 & 15403 & 36 & 1 & 1 & NA & NA & NA & 3 & 120 & ⋯ & NA & NA & NA & NA & NA & NA & NA & NA & NA & Takacs  \\\\\n",
       "\\end{tabular}\n"
      ],
      "text/markdown": [
       "\n",
       "A tibble: 1541 × 83\n",
       "\n",
       "| 1 &lt;dbl&gt; | 2 &lt;dbl&gt; | 3 &lt;dbl&gt; | 4 &lt;dbl&gt; | 5 &lt;dbl&gt; | 6 &lt;dbl&gt; | 7 &lt;dbl&gt; | 8 &lt;dbl&gt; | 9 &lt;dbl&gt; | 10 &lt;dbl&gt; | ⋯ ⋯ | 74 &lt;dbl&gt; | 75 &lt;dbl&gt; | 76 &lt;dbl&gt; | 77 &lt;dbl&gt; | 78 &lt;dbl&gt; | 79 &lt;dbl&gt; | 80 &lt;dbl&gt; | 81 &lt;dbl&gt; | 82 &lt;dbl&gt; | 83 &lt;chr&gt; |\n",
       "|---|---|---|---|---|---|---|---|---|---|---|---|---|---|---|---|---|---|---|---|---|\n",
       "| 1 | 15943882 | 63 | 1 | NA | NA | NA | -27 | 1 | 145 | ⋯ | NA | NA | NA | NA | NA | 0 | 0 | 0 | 0 | name |\n",
       "| 2 | 15964847 | 67 | 1 | NA | NA | NA | -27 | 4 | 160 | ⋯ | NA | NA | NA | NA | NA | 0 | 0 | 0 | 0 | name |\n",
       "| 3 | 15952199 | 67 | 1 | NA | NA | NA | -27 | 4 | 120 | ⋯ | NA | NA | NA | NA | NA | 0 | 0 | 0 | 0 | name |\n",
       "| ⋮ | ⋮ | ⋮ | ⋮ | ⋮ | ⋮ | ⋮ | ⋮ | ⋮ | ⋮ | ⋱ | ⋮ | ⋮ | ⋮ | ⋮ | ⋮ | ⋮ | ⋮ | ⋮ | ⋮ | ⋮ |\n",
       "| 1668 | 13203 | 57 | 1 | 1 | NA | NA | NA | 4 | 130 | ⋯ | NA | NA | NA | NA | NA | NA | NA | NA | NA | Torok    |\n",
       "| 1669 | 14205 | 47 | 1 | 1 | NA | NA | NA | 4 | 100 | ⋯ | NA | NA | NA | NA | NA | NA | NA | NA | NA | Veszelsz |\n",
       "| 1670 | 15403 | 36 | 1 | 1 | NA | NA | NA | 3 | 120 | ⋯ | NA | NA | NA | NA | NA | NA | NA | NA | NA | Takacs   |\n",
       "\n"
      ],
      "text/plain": [
       "     1    2        3  4 5  6  7  8   9 10  ⋯ 74 75 76 77 78 79 80 81 82\n",
       "1    1    15943882 63 1 NA NA NA -27 1 145 ⋯ NA NA NA NA NA 0  0  0  0 \n",
       "2    2    15964847 67 1 NA NA NA -27 4 160 ⋯ NA NA NA NA NA 0  0  0  0 \n",
       "3    3    15952199 67 1 NA NA NA -27 4 120 ⋯ NA NA NA NA NA 0  0  0  0 \n",
       "⋮    ⋮    ⋮        ⋮  ⋮ ⋮  ⋮  ⋮  ⋮   ⋮ ⋮   ⋱ ⋮  ⋮  ⋮  ⋮  ⋮  ⋮  ⋮  ⋮  ⋮ \n",
       "1539 1668 13203    57 1 1  NA NA NA  4 130 ⋯ NA NA NA NA NA NA NA NA NA\n",
       "1540 1669 14205    47 1 1  NA NA NA  4 100 ⋯ NA NA NA NA NA NA NA NA NA\n",
       "1541 1670 15403    36 1 1  NA NA NA  3 120 ⋯ NA NA NA NA NA NA NA NA NA\n",
       "     83      \n",
       "1    name    \n",
       "2    name    \n",
       "3    name    \n",
       "⋮    ⋮       \n",
       "1539 Torok   \n",
       "1540 Veszelsz\n",
       "1541 Takacs  "
      ]
     },
     "metadata": {},
     "output_type": "display_data"
    }
   ],
   "source": [
    "# Obtaining and cleaning data\n",
    "heart_raw <- read_delim(\"https://archive.ics.uci.edu/ml/machine-learning-databases/heart-disease/new.data\",\n",
    "                        col_names = FALSE, na = \"-9\") |>\n",
    "    separate(X7, c(\"X7\", \"X8\"), sep = \" \", convert = TRUE) |>\n",
    "    na_if(-9)\n",
    "heart_raw\n",
    "row_count <- nrow(heart_raw) / 12\n",
    "row_indexes <- tibble(id = rep(1:row_count, each = 12), Y = rep(1:12, times = row_count))\n",
    "heart_indexed <- bind_cols(row_indexes, heart_raw)\n",
    "heart_indexed\n",
    "heart_wide <- heart_indexed |>\n",
    "    pivot_wider(names_from = Y, values_from = X1:X8, names_vary = \"slowest\") |>\n",
    "    select(!c(id, X8_1, X4_12:X8_12)) |>\n",
    "    type_convert() |>\n",
    "    select_if(\\(x) sum(is.na(x)) != row_count)\n",
    "colnames(heart_wide) <- 1:ncol(heart_wide)\n",
    "heart_wide\n",
    "# next: give columns proper names and types, figure out why there are 83 instead of 76"
   ]
  },
  {
   "cell_type": "markdown",
   "id": "64850693-0280-487e-9677-83ae35ccb90d",
   "metadata": {},
   "source": [
    "### Discussion"
   ]
  },
  {
   "cell_type": "markdown",
   "id": "c09d7048-ff3a-4e2c-8cfb-1367ad578bd4",
   "metadata": {},
   "source": [
    "### References"
   ]
  }
 ],
 "metadata": {
  "kernelspec": {
   "display_name": "R",
   "language": "R",
   "name": "ir"
  },
  "language_info": {
   "codemirror_mode": "r",
   "file_extension": ".r",
   "mimetype": "text/x-r-source",
   "name": "R",
   "pygments_lexer": "r",
   "version": "4.1.3"
  }
 },
 "nbformat": 4,
 "nbformat_minor": 5
}
