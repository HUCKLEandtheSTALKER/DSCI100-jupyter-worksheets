{
 "cells": [
  {
   "cell_type": "markdown",
   "id": "f40343a7-11f9-4542-8cf1-3349a6e61fb9",
   "metadata": {},
   "source": [
    "# Project Proposal\n",
    "Group 60 - Danyal, Ruth, Thomas, Paul"
   ]
  },
  {
   "cell_type": "markdown",
   "id": "2f85be5a-8af5-4641-b700-ed1d21ea75bd",
   "metadata": {},
   "source": [
    "## Title: Predicting Heart disease based on data"
   ]
  },
  {
   "cell_type": "markdown",
   "id": "fa84bf87-939f-4878-8b85-b84d5297045f",
   "metadata": {},
   "source": [
    "## Introduction (Ruth)"
   ]
  },
  {
   "cell_type": "markdown",
   "id": "7a59383d-2d23-423f-9674-fb00acb35df2",
   "metadata": {},
   "source": [
    "## Preliminary exploratory data analysis (Thomas)\n",
    "Notes:\n",
    "* Although all of these variables appear numeric in the data files, the documentation tells us that many of them are actually categorical. We have only been shown how to deal with numeric variables, so we will either have to wait for more explanation in class or omit the categorical variables from our model.\n",
    "* Following the lead of the previous experiments mentioned on the website, I used only the reduced datasets with 14 columns. I also combined the values from 1 to 4 for different diagnoses into a simple \"true\" value in a new column, and dropped the original column. Unlike the previous experiments, however, I combined the data from all 4 locations into one table, keeping track of the locations in another new column."
   ]
  },
  {
   "cell_type": "code",
   "execution_count": 1,
   "id": "cfc7d751-18ff-4e01-b46d-eb4017654eec",
   "metadata": {},
   "outputs": [
    {
     "name": "stderr",
     "output_type": "stream",
     "text": [
      "── \u001b[1mAttaching packages\u001b[22m ─────────────────────────────────────── tidyverse 1.3.1 ──\n",
      "\n",
      "\u001b[32m✔\u001b[39m \u001b[34mggplot2\u001b[39m 3.3.6     \u001b[32m✔\u001b[39m \u001b[34mpurrr  \u001b[39m 0.3.4\n",
      "\u001b[32m✔\u001b[39m \u001b[34mtibble \u001b[39m 3.1.7     \u001b[32m✔\u001b[39m \u001b[34mdplyr  \u001b[39m 1.0.9\n",
      "\u001b[32m✔\u001b[39m \u001b[34mtidyr  \u001b[39m 1.2.0     \u001b[32m✔\u001b[39m \u001b[34mstringr\u001b[39m 1.4.0\n",
      "\u001b[32m✔\u001b[39m \u001b[34mreadr  \u001b[39m 2.1.2     \u001b[32m✔\u001b[39m \u001b[34mforcats\u001b[39m 0.5.1\n",
      "\n",
      "── \u001b[1mConflicts\u001b[22m ────────────────────────────────────────── tidyverse_conflicts() ──\n",
      "\u001b[31m✖\u001b[39m \u001b[34mdplyr\u001b[39m::\u001b[32mfilter()\u001b[39m masks \u001b[34mstats\u001b[39m::filter()\n",
      "\u001b[31m✖\u001b[39m \u001b[34mdplyr\u001b[39m::\u001b[32mlag()\u001b[39m    masks \u001b[34mstats\u001b[39m::lag()\n",
      "\n",
      "── \u001b[1mAttaching packages\u001b[22m ────────────────────────────────────── tidymodels 1.0.0 ──\n",
      "\n",
      "\u001b[32m✔\u001b[39m \u001b[34mbroom       \u001b[39m 1.0.0     \u001b[32m✔\u001b[39m \u001b[34mrsample     \u001b[39m 1.0.0\n",
      "\u001b[32m✔\u001b[39m \u001b[34mdials       \u001b[39m 1.0.0     \u001b[32m✔\u001b[39m \u001b[34mtune        \u001b[39m 1.0.0\n",
      "\u001b[32m✔\u001b[39m \u001b[34minfer       \u001b[39m 1.0.2     \u001b[32m✔\u001b[39m \u001b[34mworkflows   \u001b[39m 1.0.0\n",
      "\u001b[32m✔\u001b[39m \u001b[34mmodeldata   \u001b[39m 1.0.0     \u001b[32m✔\u001b[39m \u001b[34mworkflowsets\u001b[39m 1.0.0\n",
      "\u001b[32m✔\u001b[39m \u001b[34mparsnip     \u001b[39m 1.0.0     \u001b[32m✔\u001b[39m \u001b[34myardstick   \u001b[39m 1.0.0\n",
      "\u001b[32m✔\u001b[39m \u001b[34mrecipes     \u001b[39m 1.0.1     \n",
      "\n",
      "── \u001b[1mConflicts\u001b[22m ───────────────────────────────────────── tidymodels_conflicts() ──\n",
      "\u001b[31m✖\u001b[39m \u001b[34mscales\u001b[39m::\u001b[32mdiscard()\u001b[39m masks \u001b[34mpurrr\u001b[39m::discard()\n",
      "\u001b[31m✖\u001b[39m \u001b[34mdplyr\u001b[39m::\u001b[32mfilter()\u001b[39m   masks \u001b[34mstats\u001b[39m::filter()\n",
      "\u001b[31m✖\u001b[39m \u001b[34mrecipes\u001b[39m::\u001b[32mfixed()\u001b[39m  masks \u001b[34mstringr\u001b[39m::fixed()\n",
      "\u001b[31m✖\u001b[39m \u001b[34mdplyr\u001b[39m::\u001b[32mlag()\u001b[39m      masks \u001b[34mstats\u001b[39m::lag()\n",
      "\u001b[31m✖\u001b[39m \u001b[34myardstick\u001b[39m::\u001b[32mspec()\u001b[39m masks \u001b[34mreadr\u001b[39m::spec()\n",
      "\u001b[31m✖\u001b[39m \u001b[34mrecipes\u001b[39m::\u001b[32mstep()\u001b[39m   masks \u001b[34mstats\u001b[39m::step()\n",
      "\u001b[34m•\u001b[39m Search for functions across packages at \u001b[32mhttps://www.tidymodels.org/find/\u001b[39m\n",
      "\n"
     ]
    }
   ],
   "source": [
    "# Setup\n",
    "library(repr)\n",
    "library(tidyverse)\n",
    "library(tidymodels)\n",
    "options(repr.matrix.max.rows = 6)\n",
    "set.seed(9248)"
   ]
  },
  {
   "cell_type": "code",
   "execution_count": 2,
   "id": "f3d423d0-fae7-41ac-b926-ef394fc13fc4",
   "metadata": {},
   "outputs": [
    {
     "name": "stderr",
     "output_type": "stream",
     "text": [
      "Warning message:\n",
      "“One or more parsing issues, see `problems()` for details”\n",
      "Warning message:\n",
      "“One or more parsing issues, see `problems()` for details”\n",
      "Warning message:\n",
      "“One or more parsing issues, see `problems()` for details”\n",
      "Warning message:\n",
      "“One or more parsing issues, see `problems()` for details”\n"
     ]
    },
    {
     "data": {
      "text/html": [
       "<table class=\"dataframe\">\n",
       "<caption>A tibble: 920 × 15</caption>\n",
       "<thead>\n",
       "\t<tr><th scope=col>age</th><th scope=col>sex</th><th scope=col>cp</th><th scope=col>trestbps</th><th scope=col>chol</th><th scope=col>fbs</th><th scope=col>restecg</th><th scope=col>thalach</th><th scope=col>exang</th><th scope=col>oldpeak</th><th scope=col>slope</th><th scope=col>ca</th><th scope=col>thal</th><th scope=col>location</th><th scope=col>disease</th></tr>\n",
       "\t<tr><th scope=col>&lt;dbl&gt;</th><th scope=col>&lt;fct&gt;</th><th scope=col>&lt;fct&gt;</th><th scope=col>&lt;dbl&gt;</th><th scope=col>&lt;dbl&gt;</th><th scope=col>&lt;lgl&gt;</th><th scope=col>&lt;fct&gt;</th><th scope=col>&lt;dbl&gt;</th><th scope=col>&lt;lgl&gt;</th><th scope=col>&lt;dbl&gt;</th><th scope=col>&lt;fct&gt;</th><th scope=col>&lt;dbl&gt;</th><th scope=col>&lt;fct&gt;</th><th scope=col>&lt;fct&gt;</th><th scope=col>&lt;lgl&gt;</th></tr>\n",
       "</thead>\n",
       "<tbody>\n",
       "\t<tr><td>63</td><td>male</td><td>1</td><td>145</td><td>233</td><td> TRUE</td><td>2</td><td>150</td><td>FALSE</td><td>2.3</td><td>3</td><td>0</td><td>6</td><td>Cleveland</td><td>FALSE</td></tr>\n",
       "\t<tr><td>67</td><td>male</td><td>4</td><td>160</td><td>286</td><td>FALSE</td><td>2</td><td>108</td><td> TRUE</td><td>1.5</td><td>2</td><td>3</td><td>3</td><td>Cleveland</td><td> TRUE</td></tr>\n",
       "\t<tr><td>67</td><td>male</td><td>4</td><td>120</td><td>229</td><td>FALSE</td><td>2</td><td>129</td><td> TRUE</td><td>2.6</td><td>2</td><td>2</td><td>7</td><td>Cleveland</td><td> TRUE</td></tr>\n",
       "\t<tr><td>⋮</td><td>⋮</td><td>⋮</td><td>⋮</td><td>⋮</td><td>⋮</td><td>⋮</td><td>⋮</td><td>⋮</td><td>⋮</td><td>⋮</td><td>⋮</td><td>⋮</td><td>⋮</td><td>⋮</td></tr>\n",
       "\t<tr><td>55</td><td>male</td><td>4</td><td>122</td><td>223</td><td> TRUE</td><td>1</td><td>100</td><td>FALSE</td><td> 0</td><td>NA</td><td>NA</td><td>6 </td><td>Long Beach</td><td> TRUE</td></tr>\n",
       "\t<tr><td>58</td><td>male</td><td>4</td><td> NA</td><td>385</td><td> TRUE</td><td>2</td><td> NA</td><td>   NA</td><td>NA</td><td>NA</td><td>NA</td><td>NA</td><td>Long Beach</td><td>FALSE</td></tr>\n",
       "\t<tr><td>62</td><td>male</td><td>2</td><td>120</td><td>254</td><td>FALSE</td><td>2</td><td> 93</td><td> TRUE</td><td> 0</td><td>NA</td><td>NA</td><td>NA</td><td>Long Beach</td><td> TRUE</td></tr>\n",
       "</tbody>\n",
       "</table>\n"
      ],
      "text/latex": [
       "A tibble: 920 × 15\n",
       "\\begin{tabular}{lllllllllllllll}\n",
       " age & sex & cp & trestbps & chol & fbs & restecg & thalach & exang & oldpeak & slope & ca & thal & location & disease\\\\\n",
       " <dbl> & <fct> & <fct> & <dbl> & <dbl> & <lgl> & <fct> & <dbl> & <lgl> & <dbl> & <fct> & <dbl> & <fct> & <fct> & <lgl>\\\\\n",
       "\\hline\n",
       "\t 63 & male & 1 & 145 & 233 &  TRUE & 2 & 150 & FALSE & 2.3 & 3 & 0 & 6 & Cleveland & FALSE\\\\\n",
       "\t 67 & male & 4 & 160 & 286 & FALSE & 2 & 108 &  TRUE & 1.5 & 2 & 3 & 3 & Cleveland &  TRUE\\\\\n",
       "\t 67 & male & 4 & 120 & 229 & FALSE & 2 & 129 &  TRUE & 2.6 & 2 & 2 & 7 & Cleveland &  TRUE\\\\\n",
       "\t ⋮ & ⋮ & ⋮ & ⋮ & ⋮ & ⋮ & ⋮ & ⋮ & ⋮ & ⋮ & ⋮ & ⋮ & ⋮ & ⋮ & ⋮\\\\\n",
       "\t 55 & male & 4 & 122 & 223 &  TRUE & 1 & 100 & FALSE &  0 & NA & NA & 6  & Long Beach &  TRUE\\\\\n",
       "\t 58 & male & 4 &  NA & 385 &  TRUE & 2 &  NA &    NA & NA & NA & NA & NA & Long Beach & FALSE\\\\\n",
       "\t 62 & male & 2 & 120 & 254 & FALSE & 2 &  93 &  TRUE &  0 & NA & NA & NA & Long Beach &  TRUE\\\\\n",
       "\\end{tabular}\n"
      ],
      "text/markdown": [
       "\n",
       "A tibble: 920 × 15\n",
       "\n",
       "| age &lt;dbl&gt; | sex &lt;fct&gt; | cp &lt;fct&gt; | trestbps &lt;dbl&gt; | chol &lt;dbl&gt; | fbs &lt;lgl&gt; | restecg &lt;fct&gt; | thalach &lt;dbl&gt; | exang &lt;lgl&gt; | oldpeak &lt;dbl&gt; | slope &lt;fct&gt; | ca &lt;dbl&gt; | thal &lt;fct&gt; | location &lt;fct&gt; | disease &lt;lgl&gt; |\n",
       "|---|---|---|---|---|---|---|---|---|---|---|---|---|---|---|\n",
       "| 63 | male | 1 | 145 | 233 |  TRUE | 2 | 150 | FALSE | 2.3 | 3 | 0 | 6 | Cleveland | FALSE |\n",
       "| 67 | male | 4 | 160 | 286 | FALSE | 2 | 108 |  TRUE | 1.5 | 2 | 3 | 3 | Cleveland |  TRUE |\n",
       "| 67 | male | 4 | 120 | 229 | FALSE | 2 | 129 |  TRUE | 2.6 | 2 | 2 | 7 | Cleveland |  TRUE |\n",
       "| ⋮ | ⋮ | ⋮ | ⋮ | ⋮ | ⋮ | ⋮ | ⋮ | ⋮ | ⋮ | ⋮ | ⋮ | ⋮ | ⋮ | ⋮ |\n",
       "| 55 | male | 4 | 122 | 223 |  TRUE | 1 | 100 | FALSE |  0 | NA | NA | 6  | Long Beach |  TRUE |\n",
       "| 58 | male | 4 |  NA | 385 |  TRUE | 2 |  NA |    NA | NA | NA | NA | NA | Long Beach | FALSE |\n",
       "| 62 | male | 2 | 120 | 254 | FALSE | 2 |  93 |  TRUE |  0 | NA | NA | NA | Long Beach |  TRUE |\n",
       "\n"
      ],
      "text/plain": [
       "    age sex  cp trestbps chol fbs   restecg thalach exang oldpeak slope ca thal\n",
       "1   63  male 1  145      233   TRUE 2       150     FALSE 2.3     3     0  6   \n",
       "2   67  male 4  160      286  FALSE 2       108      TRUE 1.5     2     3  3   \n",
       "3   67  male 4  120      229  FALSE 2       129      TRUE 2.6     2     2  7   \n",
       "⋮   ⋮   ⋮    ⋮  ⋮        ⋮    ⋮     ⋮       ⋮       ⋮     ⋮       ⋮     ⋮  ⋮   \n",
       "918 55  male 4  122      223   TRUE 1       100     FALSE  0      NA    NA 6   \n",
       "919 58  male 4   NA      385   TRUE 2        NA        NA NA      NA    NA NA  \n",
       "920 62  male 2  120      254  FALSE 2        93      TRUE  0      NA    NA NA  \n",
       "    location   disease\n",
       "1   Cleveland  FALSE  \n",
       "2   Cleveland   TRUE  \n",
       "3   Cleveland   TRUE  \n",
       "⋮   ⋮          ⋮      \n",
       "918 Long Beach  TRUE  \n",
       "919 Long Beach FALSE  \n",
       "920 Long Beach  TRUE  "
      ]
     },
     "metadata": {},
     "output_type": "display_data"
    }
   ],
   "source": [
    "# Obtain data from external source and combine into one table\n",
    "names <- c(\"age\", \"sex\", \"cp\", \"trestbps\", \"chol\", \"fbs\", \"restecg\", \"thalach\", \"exang\", \"oldpeak\", \"slope\", \"ca\", \"thal\", \"num\")\n",
    "types <- \"nnnnnnnnnnnnnn\"\n",
    "cleveland <- read_csv(\"https://archive.ics.uci.edu/ml/machine-learning-databases/heart-disease/processed.cleveland.data\",\n",
    "                      col_names = names, col_types = types) |>\n",
    "    mutate(location = \"Cleveland\")\n",
    "hungary <- read_csv(\"https://archive.ics.uci.edu/ml/machine-learning-databases/heart-disease/processed.hungarian.data\",\n",
    "                    col_names = names, col_types = types) |>\n",
    "    mutate(location = \"Hungary\")\n",
    "switzerland <- read_csv(\"https://archive.ics.uci.edu/ml/machine-learning-databases/heart-disease/processed.switzerland.data\",\n",
    "                        col_names = names, col_types = types) |>\n",
    "    mutate(location = \"Switzerland\")\n",
    "longbeach <- read_csv(\"https://archive.ics.uci.edu/ml/machine-learning-databases/heart-disease/processed.va.data\",\n",
    "                      col_names = names, col_types = types) |>\n",
    "    mutate(location = \"Long Beach\")\n",
    "complete <- bind_rows(cleveland, hungary, switzerland, longbeach)\n",
    "\n",
    "# Clean data\n",
    "heart_disease <- complete |>\n",
    "    mutate(sex = as_factor(ifelse(sex == 1, \"male\", \"female\")),\n",
    "           cp = as_factor(cp),\n",
    "           fbs = as.logical(fbs),\n",
    "           restecg = as_factor(restecg),\n",
    "           exang = as.logical(exang),\n",
    "           slope = as_factor(slope),\n",
    "           thal = as_factor(thal),\n",
    "           disease = num != 0,\n",
    "           location = as_factor(location)) |>\n",
    "    select(-num)\n",
    "heart_disease"
   ]
  },
  {
   "cell_type": "code",
   "execution_count": 3,
   "id": "2c9bce46-966c-4b1a-95c6-3583b9056d0a",
   "metadata": {},
   "outputs": [],
   "source": [
    "# Training/testing split\n",
    "heart_split <- initial_split(heart_disease, prop = 0.75, strata = disease)\n",
    "heart_training <- training(heart_split)\n",
    "heart_testing <- testing(heart_split)"
   ]
  },
  {
   "cell_type": "code",
   "execution_count": 4,
   "id": "dba2c138-4b7b-43cf-ace9-e712d1a574bc",
   "metadata": {},
   "outputs": [
    {
     "data": {
      "text/html": [
       "<table class=\"dataframe\">\n",
       "<caption>A tibble: 1 × 15</caption>\n",
       "<thead>\n",
       "\t<tr><th scope=col>age</th><th scope=col>sex</th><th scope=col>cp</th><th scope=col>trestbps</th><th scope=col>chol</th><th scope=col>fbs</th><th scope=col>restecg</th><th scope=col>thalach</th><th scope=col>exang</th><th scope=col>oldpeak</th><th scope=col>slope</th><th scope=col>ca</th><th scope=col>thal</th><th scope=col>location</th><th scope=col>disease</th></tr>\n",
       "\t<tr><th scope=col>&lt;int&gt;</th><th scope=col>&lt;int&gt;</th><th scope=col>&lt;int&gt;</th><th scope=col>&lt;int&gt;</th><th scope=col>&lt;int&gt;</th><th scope=col>&lt;int&gt;</th><th scope=col>&lt;int&gt;</th><th scope=col>&lt;int&gt;</th><th scope=col>&lt;int&gt;</th><th scope=col>&lt;int&gt;</th><th scope=col>&lt;int&gt;</th><th scope=col>&lt;int&gt;</th><th scope=col>&lt;int&gt;</th><th scope=col>&lt;int&gt;</th><th scope=col>&lt;int&gt;</th></tr>\n",
       "</thead>\n",
       "<tbody>\n",
       "\t<tr><td>0</td><td>0</td><td>0</td><td>44</td><td>22</td><td>68</td><td>1</td><td>40</td><td>40</td><td>43</td><td>219</td><td>449</td><td>353</td><td>0</td><td>0</td></tr>\n",
       "</tbody>\n",
       "</table>\n"
      ],
      "text/latex": [
       "A tibble: 1 × 15\n",
       "\\begin{tabular}{lllllllllllllll}\n",
       " age & sex & cp & trestbps & chol & fbs & restecg & thalach & exang & oldpeak & slope & ca & thal & location & disease\\\\\n",
       " <int> & <int> & <int> & <int> & <int> & <int> & <int> & <int> & <int> & <int> & <int> & <int> & <int> & <int> & <int>\\\\\n",
       "\\hline\n",
       "\t 0 & 0 & 0 & 44 & 22 & 68 & 1 & 40 & 40 & 43 & 219 & 449 & 353 & 0 & 0\\\\\n",
       "\\end{tabular}\n"
      ],
      "text/markdown": [
       "\n",
       "A tibble: 1 × 15\n",
       "\n",
       "| age &lt;int&gt; | sex &lt;int&gt; | cp &lt;int&gt; | trestbps &lt;int&gt; | chol &lt;int&gt; | fbs &lt;int&gt; | restecg &lt;int&gt; | thalach &lt;int&gt; | exang &lt;int&gt; | oldpeak &lt;int&gt; | slope &lt;int&gt; | ca &lt;int&gt; | thal &lt;int&gt; | location &lt;int&gt; | disease &lt;int&gt; |\n",
       "|---|---|---|---|---|---|---|---|---|---|---|---|---|---|---|\n",
       "| 0 | 0 | 0 | 44 | 22 | 68 | 1 | 40 | 40 | 43 | 219 | 449 | 353 | 0 | 0 |\n",
       "\n"
      ],
      "text/plain": [
       "  age sex cp trestbps chol fbs restecg thalach exang oldpeak slope ca  thal\n",
       "1 0   0   0  44       22   68  1       40      40    43      219   449 353 \n",
       "  location disease\n",
       "1 0        0      "
      ]
     },
     "metadata": {},
     "output_type": "display_data"
    },
    {
     "name": "stderr",
     "output_type": "stream",
     "text": [
      "\u001b[1m\u001b[22m`summarise()` has grouped output by 'location'. You can override using the\n",
      "`.groups` argument.\n"
     ]
    },
    {
     "data": {
      "text/html": [
       "<table class=\"dataframe\">\n",
       "<caption>A grouped_df: 4 × 3</caption>\n",
       "<thead>\n",
       "\t<tr><th scope=col>location</th><th scope=col>FALSE</th><th scope=col>TRUE</th></tr>\n",
       "\t<tr><th scope=col>&lt;fct&gt;</th><th scope=col>&lt;int&gt;</th><th scope=col>&lt;int&gt;</th></tr>\n",
       "</thead>\n",
       "<tbody>\n",
       "\t<tr><td>Cleveland  </td><td>125</td><td>110</td></tr>\n",
       "\t<tr><td>Hungary    </td><td>136</td><td> 79</td></tr>\n",
       "\t<tr><td>Switzerland</td><td>  7</td><td> 87</td></tr>\n",
       "\t<tr><td>Long Beach </td><td> 40</td><td>105</td></tr>\n",
       "</tbody>\n",
       "</table>\n"
      ],
      "text/latex": [
       "A grouped\\_df: 4 × 3\n",
       "\\begin{tabular}{lll}\n",
       " location & FALSE & TRUE\\\\\n",
       " <fct> & <int> & <int>\\\\\n",
       "\\hline\n",
       "\t Cleveland   & 125 & 110\\\\\n",
       "\t Hungary     & 136 &  79\\\\\n",
       "\t Switzerland &   7 &  87\\\\\n",
       "\t Long Beach  &  40 & 105\\\\\n",
       "\\end{tabular}\n"
      ],
      "text/markdown": [
       "\n",
       "A grouped_df: 4 × 3\n",
       "\n",
       "| location &lt;fct&gt; | FALSE &lt;int&gt; | TRUE &lt;int&gt; |\n",
       "|---|---|---|\n",
       "| Cleveland   | 125 | 110 |\n",
       "| Hungary     | 136 |  79 |\n",
       "| Switzerland |   7 |  87 |\n",
       "| Long Beach  |  40 | 105 |\n",
       "\n"
      ],
      "text/plain": [
       "  location    FALSE TRUE\n",
       "1 Cleveland   125   110 \n",
       "2 Hungary     136    79 \n",
       "3 Switzerland   7    87 \n",
       "4 Long Beach   40   105 "
      ]
     },
     "metadata": {},
     "output_type": "display_data"
    },
    {
     "data": {
      "text/html": [
       "<table class=\"dataframe\">\n",
       "<caption>A tibble: 1 × 6</caption>\n",
       "<thead>\n",
       "\t<tr><th scope=col>age</th><th scope=col>trestbps</th><th scope=col>chol</th><th scope=col>thalach</th><th scope=col>oldpeak</th><th scope=col>ca</th></tr>\n",
       "\t<tr><th scope=col>&lt;dbl&gt;</th><th scope=col>&lt;dbl&gt;</th><th scope=col>&lt;dbl&gt;</th><th scope=col>&lt;dbl&gt;</th><th scope=col>&lt;dbl&gt;</th><th scope=col>&lt;dbl&gt;</th></tr>\n",
       "</thead>\n",
       "<tbody>\n",
       "\t<tr><td>53.40348</td><td>131.9752</td><td>197.7316</td><td>138.7442</td><td>0.9113003</td><td>0.625</td></tr>\n",
       "</tbody>\n",
       "</table>\n"
      ],
      "text/latex": [
       "A tibble: 1 × 6\n",
       "\\begin{tabular}{llllll}\n",
       " age & trestbps & chol & thalach & oldpeak & ca\\\\\n",
       " <dbl> & <dbl> & <dbl> & <dbl> & <dbl> & <dbl>\\\\\n",
       "\\hline\n",
       "\t 53.40348 & 131.9752 & 197.7316 & 138.7442 & 0.9113003 & 0.625\\\\\n",
       "\\end{tabular}\n"
      ],
      "text/markdown": [
       "\n",
       "A tibble: 1 × 6\n",
       "\n",
       "| age &lt;dbl&gt; | trestbps &lt;dbl&gt; | chol &lt;dbl&gt; | thalach &lt;dbl&gt; | oldpeak &lt;dbl&gt; | ca &lt;dbl&gt; |\n",
       "|---|---|---|---|---|---|\n",
       "| 53.40348 | 131.9752 | 197.7316 | 138.7442 | 0.9113003 | 0.625 |\n",
       "\n"
      ],
      "text/plain": [
       "  age      trestbps chol     thalach  oldpeak   ca   \n",
       "1 53.40348 131.9752 197.7316 138.7442 0.9113003 0.625"
      ]
     },
     "metadata": {},
     "output_type": "display_data"
    }
   ],
   "source": [
    "# Count rows in each column with missing data\n",
    "heart_missing <- heart_training |>\n",
    "    map_df(function(x) sum(is.na(x)))\n",
    "heart_missing\n",
    "\n",
    "# Number of observations with and without heart disease from each location\n",
    "disease_count <- heart_training |>\n",
    "    group_by(location, disease) |>\n",
    "    summarize(count = n()) |>\n",
    "    pivot_wider(names_from = disease, values_from = count)\n",
    "disease_count\n",
    "\n",
    "# Select only columns with numeric data and calculate mean of each column\n",
    "heart_numeric <- heart_training |>\n",
    "    select(age, trestbps, chol, thalach, oldpeak, ca)\n",
    "heart_mean <- heart_numeric |>\n",
    "    map_df(mean, na.rm = TRUE)\n",
    "heart_mean"
   ]
  },
  {
   "cell_type": "markdown",
   "id": "8ff54084-bfff-4ea7-8b73-b315f0539617",
   "metadata": {},
   "source": [
    "## Methods (Paul)"
   ]
  },
  {
   "cell_type": "markdown",
   "id": "4b495bd8-854c-40b3-87dc-fa9e5b60638f",
   "metadata": {},
   "source": [
    "## Expected outcomes and significance (Danyal)"
   ]
  }
 ],
 "metadata": {
  "kernelspec": {
   "display_name": "R",
   "language": "R",
   "name": "ir"
  },
  "language_info": {
   "codemirror_mode": "r",
   "file_extension": ".r",
   "mimetype": "text/x-r-source",
   "name": "R",
   "pygments_lexer": "r",
   "version": "4.1.3"
  }
 },
 "nbformat": 4,
 "nbformat_minor": 5
}
