{
 "cells": [
  {
   "cell_type": "markdown",
   "id": "f40343a7-11f9-4542-8cf1-3349a6e61fb9",
   "metadata": {},
   "source": [
    "# Project Proposal\n",
    "Group 60 - Danyal, Ruth, Thomas, Paul"
   ]
  },
  {
   "cell_type": "code",
   "execution_count": 2,
   "id": "0f27cb09-18a6-4e4f-9ec0-596daf870cb2",
   "metadata": {},
   "outputs": [],
   "source": [
    "##Title: Predicting Heart disease based on data"
   ]
  },
  {
   "cell_type": "markdown",
   "id": "fa84bf87-939f-4878-8b85-b84d5297045f",
   "metadata": {},
   "source": [
    "## Introduction (Ruth)"
   ]
  },
  {
   "cell_type": "markdown",
   "id": "7a59383d-2d23-423f-9674-fb00acb35df2",
   "metadata": {},
   "source": [
    "## Preliminary exploratory data analysis (Thomas)"
   ]
  },
  {
   "cell_type": "markdown",
   "id": "8ff54084-bfff-4ea7-8b73-b315f0539617",
   "metadata": {},
   "source": [
    "## Methods (Paul)"
   ]
  },
  {
   "cell_type": "markdown",
   "id": "4b495bd8-854c-40b3-87dc-fa9e5b60638f",
   "metadata": {},
   "source": [
    "## Expected outcomes and significance (Danyal)"
   ]
  },
  {
   "cell_type": "code",
   "execution_count": null,
   "id": "fa1a5c0c-ff57-41d0-8d47-eec814cf2023",
   "metadata": {},
   "outputs": [],
   "source": []
  }
 ],
 "metadata": {
  "kernelspec": {
   "display_name": "R",
   "language": "R",
   "name": "ir"
  },
  "language_info": {
   "codemirror_mode": "r",
   "file_extension": ".r",
   "mimetype": "text/x-r-source",
   "name": "R",
   "pygments_lexer": "r",
   "version": "4.1.3"
  }
 },
 "nbformat": 4,
 "nbformat_minor": 5
}
