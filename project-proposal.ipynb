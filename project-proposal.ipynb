{
 "cells": [
  {
   "cell_type": "markdown",
   "id": "f40343a7-11f9-4542-8cf1-3349a6e61fb9",
   "metadata": {},
   "source": [
    "# Project Proposal\n",
    "Group 60 - Danyal, Ruth, Thomas, Paul"
   ]
  },
  {
   "cell_type": "code",
   "execution_count": null,
   "id": "be2ac3b8-5290-4b5f-9c62-46111eec2d36",
   "metadata": {},
   "outputs": [],
   "source": []
  }
 ],
 "metadata": {
  "kernelspec": {
   "display_name": "R",
   "language": "R",
   "name": "ir"
  },
  "language_info": {
   "codemirror_mode": "r",
   "file_extension": ".r",
   "mimetype": "text/x-r-source",
   "name": "R",
   "pygments_lexer": "r",
   "version": "4.1.3"
  }
 },
 "nbformat": 4,
 "nbformat_minor": 5
}
